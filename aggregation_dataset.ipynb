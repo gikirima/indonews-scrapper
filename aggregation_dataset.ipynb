{
  "cells": [
    {
      "cell_type": "code",
      "execution_count": 53,
      "metadata": {},
      "outputs": [
        {
          "name": "stdout",
          "output_type": "stream",
          "text": [
            "Requirement already satisfied: pandas in c:\\users\\fz\\miniconda3\\lib\\site-packages (2.3.0)\n",
            "Requirement already satisfied: openpyxl in c:\\users\\fz\\miniconda3\\lib\\site-packages (3.1.5)\n",
            "Requirement already satisfied: numpy>=1.26.0 in c:\\users\\fz\\miniconda3\\lib\\site-packages (from pandas) (2.3.0)\n",
            "Requirement already satisfied: python-dateutil>=2.8.2 in c:\\users\\fz\\miniconda3\\lib\\site-packages (from pandas) (2.9.0.post0)\n",
            "Requirement already satisfied: pytz>=2020.1 in c:\\users\\fz\\miniconda3\\lib\\site-packages (from pandas) (2025.2)\n",
            "Requirement already satisfied: tzdata>=2022.7 in c:\\users\\fz\\miniconda3\\lib\\site-packages (from pandas) (2025.2)\n",
            "Requirement already satisfied: et-xmlfile in c:\\users\\fz\\miniconda3\\lib\\site-packages (from openpyxl) (2.0.0)\n",
            "Requirement already satisfied: six>=1.5 in c:\\users\\fz\\miniconda3\\lib\\site-packages (from python-dateutil>=2.8.2->pandas) (1.17.0)\n",
            "Note: you may need to restart the kernel to use updated packages.\n"
          ]
        }
      ],
      "source": [
        "%pip install pandas openpyxl"
      ]
    },
    {
      "cell_type": "code",
      "execution_count": 54,
      "metadata": {
        "id": "sIT7GH24r-Jn"
      },
      "outputs": [],
      "source": [
        "import pandas as pd\n",
        "\n",
        "df_liputan6 = pd.read_excel('berita_liputan6.xlsx')\n",
        "df_posmetro = pd.read_excel('berita_posmetro.xlsx')\n",
        "df_detik = pd.read_csv('berita_detik.csv')\n",
        "df_fimela = pd.read_csv('berita_fimela.csv')\n",
        "df_kapanlagi = pd.read_csv('berita_kapanlagi.csv')\n",
        "df_kompas = pd.read_csv('berita_kompas.csv')\n",
        "df_okezone = pd.read_excel('berita_okezone.xlsx')\n",
        "df_republika = pd.read_csv('berita_republika.csv')\n",
        "df_sindonews = pd.read_excel('berita_sindonews.xlsx')\n",
        "df_tempo = pd.read_excel('berita_tempo.xlsx')\n",
        "df_tribun = pd.read_excel('berita_tribun.xlsx')"
      ]
    },
    {
      "cell_type": "code",
      "execution_count": 55,
      "metadata": {
        "colab": {
          "base_uri": "https://localhost:8080/"
        },
        "id": "_NFZOi-bvpSg",
        "outputId": "f2ce9052-c6f7-46b5-afb2-f6261a6891c5"
      },
      "outputs": [
        {
          "name": "stdout",
          "output_type": "stream",
          "text": [
            "(892, 6)\n",
            "(65, 7)\n",
            "(709, 9)\n",
            "(4746, 9)\n",
            "(124, 8)\n",
            "(50, 9)\n",
            "(673, 7)\n",
            "(12, 9)\n",
            "(409, 7)\n",
            "(133, 6)\n",
            "(1085, 7)\n"
          ]
        }
      ],
      "source": [
        "# lihat shape semua variabel\n",
        "print(df_liputan6.shape)\n",
        "print(df_posmetro.shape)\n",
        "print(df_detik.shape)\n",
        "print(df_fimela.shape)\n",
        "print(df_kapanlagi.shape)\n",
        "print(df_kompas.shape)\n",
        "print(df_okezone.shape)\n",
        "print(df_republika.shape)\n",
        "print(df_sindonews.shape)\n",
        "print(df_tempo.shape)\n",
        "print(df_tribun.shape)"
      ]
    },
    {
      "cell_type": "markdown",
      "metadata": {
        "id": "4Cas5E2Jxl51"
      },
      "source": [
        "# **Cleaning datasets**"
      ]
    },
    {
      "cell_type": "markdown",
      "metadata": {
        "id": "SqmBBZxBxpAf"
      },
      "source": [
        "## **Liputan 6**"
      ]
    },
    {
      "cell_type": "code",
      "execution_count": 56,
      "metadata": {
        "colab": {
          "base_uri": "https://localhost:8080/",
          "height": 306
        },
        "id": "EUB1fagtvu1e",
        "outputId": "319e6c81-86b1-40e1-968b-84adb9b1c8f8"
      },
      "outputs": [
        {
          "data": {
            "text/html": [
              "<div>\n",
              "<style scoped>\n",
              "    .dataframe tbody tr th:only-of-type {\n",
              "        vertical-align: middle;\n",
              "    }\n",
              "\n",
              "    .dataframe tbody tr th {\n",
              "        vertical-align: top;\n",
              "    }\n",
              "\n",
              "    .dataframe thead th {\n",
              "        text-align: right;\n",
              "    }\n",
              "</style>\n",
              "<table border=\"1\" class=\"dataframe\">\n",
              "  <thead>\n",
              "    <tr style=\"text-align: right;\">\n",
              "      <th></th>\n",
              "      <th>Sumber</th>\n",
              "      <th>Judul</th>\n",
              "      <th>Isi</th>\n",
              "      <th>Tanggal</th>\n",
              "      <th>Kategori</th>\n",
              "      <th>Link</th>\n",
              "    </tr>\n",
              "  </thead>\n",
              "  <tbody>\n",
              "    <tr>\n",
              "      <th>0</th>\n",
              "      <td>Liputan6.com</td>\n",
              "      <td>Terungkap, Sosok yang Kirim Bitcoin USD 31 Jut...</td>\n",
              "      <td>Liputan6.com, Jakarta -Donasi Bitcoin senilai ...</td>\n",
              "      <td>Diperbarui 06 Jun 2025, 14:15 WIB</td>\n",
              "      <td>Crypto</td>\n",
              "      <td>https://www.liputan6.com/crypto/read/6044965/t...</td>\n",
              "    </tr>\n",
              "    <tr>\n",
              "      <th>1</th>\n",
              "      <td>Liputan6.com</td>\n",
              "      <td>Pangeran Harry dan Meghan Markle Ajak Anak-ana...</td>\n",
              "      <td>Liputan6.com, Jakarta -Pangeran Harrybaru-baru...</td>\n",
              "      <td>Diperbarui 08 Jun 2025, 13:00 WIB</td>\n",
              "      <td>Lifestyle</td>\n",
              "      <td>https://www.liputan6.com/lifestyle/read/604621...</td>\n",
              "    </tr>\n",
              "    <tr>\n",
              "      <th>2</th>\n",
              "      <td>Liputan6.com</td>\n",
              "      <td>Rekomendasi 10 Model Jahitan Baju Batik Wanita...</td>\n",
              "      <td>Liputan6.com, JakartaDi tengah tren fashion ya...</td>\n",
              "      <td>Diperbarui 10 Jun 2025, 17:24 WIB</td>\n",
              "      <td>Hot</td>\n",
              "      <td>https://www.liputan6.com/hot/read/5991426/reko...</td>\n",
              "    </tr>\n",
              "    <tr>\n",
              "      <th>3</th>\n",
              "      <td>Liputan6.com</td>\n",
              "      <td>Menteri UMKM Pede Rasio Kewirausahaan Bisa Cap...</td>\n",
              "      <td>Liputan6.com, Jakarta -Menteri Usaha Mikro, Ke...</td>\n",
              "      <td>Diperbarui 10 Jun 2025, 18:31 WIB</td>\n",
              "      <td>Bisnis</td>\n",
              "      <td>https://www.liputan6.com/bisnis/read/6048618/m...</td>\n",
              "    </tr>\n",
              "    <tr>\n",
              "      <th>4</th>\n",
              "      <td>Liputan6.com</td>\n",
              "      <td>Data Inflasi hingga Suku Bunga The Fed Bayangi...</td>\n",
              "      <td>Liputan6.com, Jakarta -HargaBitcoinpada awal J...</td>\n",
              "      <td>Diperbarui 08 Jun 2025, 18:00 WIB</td>\n",
              "      <td>Crypto</td>\n",
              "      <td>https://www.liputan6.com/crypto/read/6046066/d...</td>\n",
              "    </tr>\n",
              "  </tbody>\n",
              "</table>\n",
              "</div>"
            ],
            "text/plain": [
              "         Sumber                                              Judul  \\\n",
              "0  Liputan6.com  Terungkap, Sosok yang Kirim Bitcoin USD 31 Jut...   \n",
              "1  Liputan6.com  Pangeran Harry dan Meghan Markle Ajak Anak-ana...   \n",
              "2  Liputan6.com  Rekomendasi 10 Model Jahitan Baju Batik Wanita...   \n",
              "3  Liputan6.com  Menteri UMKM Pede Rasio Kewirausahaan Bisa Cap...   \n",
              "4  Liputan6.com  Data Inflasi hingga Suku Bunga The Fed Bayangi...   \n",
              "\n",
              "                                                 Isi  \\\n",
              "0  Liputan6.com, Jakarta -Donasi Bitcoin senilai ...   \n",
              "1  Liputan6.com, Jakarta -Pangeran Harrybaru-baru...   \n",
              "2  Liputan6.com, JakartaDi tengah tren fashion ya...   \n",
              "3  Liputan6.com, Jakarta -Menteri Usaha Mikro, Ke...   \n",
              "4  Liputan6.com, Jakarta -HargaBitcoinpada awal J...   \n",
              "\n",
              "                             Tanggal   Kategori  \\\n",
              "0  Diperbarui 06 Jun 2025, 14:15 WIB     Crypto   \n",
              "1  Diperbarui 08 Jun 2025, 13:00 WIB  Lifestyle   \n",
              "2  Diperbarui 10 Jun 2025, 17:24 WIB        Hot   \n",
              "3  Diperbarui 10 Jun 2025, 18:31 WIB     Bisnis   \n",
              "4  Diperbarui 08 Jun 2025, 18:00 WIB     Crypto   \n",
              "\n",
              "                                                Link  \n",
              "0  https://www.liputan6.com/crypto/read/6044965/t...  \n",
              "1  https://www.liputan6.com/lifestyle/read/604621...  \n",
              "2  https://www.liputan6.com/hot/read/5991426/reko...  \n",
              "3  https://www.liputan6.com/bisnis/read/6048618/m...  \n",
              "4  https://www.liputan6.com/crypto/read/6046066/d...  "
            ]
          },
          "execution_count": 56,
          "metadata": {},
          "output_type": "execute_result"
        }
      ],
      "source": [
        "df_liputan6.head()"
      ]
    },
    {
      "cell_type": "code",
      "execution_count": 57,
      "metadata": {
        "colab": {
          "base_uri": "https://localhost:8080/",
          "height": 289
        },
        "id": "f5V0DjDDzcCA",
        "outputId": "fdb29e21-91c0-46c0-b8ca-10dec468d910"
      },
      "outputs": [
        {
          "data": {
            "text/html": [
              "<div>\n",
              "<style scoped>\n",
              "    .dataframe tbody tr th:only-of-type {\n",
              "        vertical-align: middle;\n",
              "    }\n",
              "\n",
              "    .dataframe tbody tr th {\n",
              "        vertical-align: top;\n",
              "    }\n",
              "\n",
              "    .dataframe thead th {\n",
              "        text-align: right;\n",
              "    }\n",
              "</style>\n",
              "<table border=\"1\" class=\"dataframe\">\n",
              "  <thead>\n",
              "    <tr style=\"text-align: right;\">\n",
              "      <th></th>\n",
              "      <th>Judul</th>\n",
              "      <th>Isi</th>\n",
              "      <th>Kategori</th>\n",
              "      <th>Link</th>\n",
              "    </tr>\n",
              "  </thead>\n",
              "  <tbody>\n",
              "    <tr>\n",
              "      <th>0</th>\n",
              "      <td>Terungkap, Sosok yang Kirim Bitcoin USD 31 Jut...</td>\n",
              "      <td>Liputan6.com, Jakarta -Donasi Bitcoin senilai ...</td>\n",
              "      <td>Crypto</td>\n",
              "      <td>https://www.liputan6.com/crypto/read/6044965/t...</td>\n",
              "    </tr>\n",
              "    <tr>\n",
              "      <th>1</th>\n",
              "      <td>Pangeran Harry dan Meghan Markle Ajak Anak-ana...</td>\n",
              "      <td>Liputan6.com, Jakarta -Pangeran Harrybaru-baru...</td>\n",
              "      <td>Lifestyle</td>\n",
              "      <td>https://www.liputan6.com/lifestyle/read/604621...</td>\n",
              "    </tr>\n",
              "    <tr>\n",
              "      <th>2</th>\n",
              "      <td>Rekomendasi 10 Model Jahitan Baju Batik Wanita...</td>\n",
              "      <td>Liputan6.com, JakartaDi tengah tren fashion ya...</td>\n",
              "      <td>Hot</td>\n",
              "      <td>https://www.liputan6.com/hot/read/5991426/reko...</td>\n",
              "    </tr>\n",
              "    <tr>\n",
              "      <th>3</th>\n",
              "      <td>Menteri UMKM Pede Rasio Kewirausahaan Bisa Cap...</td>\n",
              "      <td>Liputan6.com, Jakarta -Menteri Usaha Mikro, Ke...</td>\n",
              "      <td>Bisnis</td>\n",
              "      <td>https://www.liputan6.com/bisnis/read/6048618/m...</td>\n",
              "    </tr>\n",
              "    <tr>\n",
              "      <th>4</th>\n",
              "      <td>Data Inflasi hingga Suku Bunga The Fed Bayangi...</td>\n",
              "      <td>Liputan6.com, Jakarta -HargaBitcoinpada awal J...</td>\n",
              "      <td>Crypto</td>\n",
              "      <td>https://www.liputan6.com/crypto/read/6046066/d...</td>\n",
              "    </tr>\n",
              "  </tbody>\n",
              "</table>\n",
              "</div>"
            ],
            "text/plain": [
              "                                               Judul  \\\n",
              "0  Terungkap, Sosok yang Kirim Bitcoin USD 31 Jut...   \n",
              "1  Pangeran Harry dan Meghan Markle Ajak Anak-ana...   \n",
              "2  Rekomendasi 10 Model Jahitan Baju Batik Wanita...   \n",
              "3  Menteri UMKM Pede Rasio Kewirausahaan Bisa Cap...   \n",
              "4  Data Inflasi hingga Suku Bunga The Fed Bayangi...   \n",
              "\n",
              "                                                 Isi   Kategori  \\\n",
              "0  Liputan6.com, Jakarta -Donasi Bitcoin senilai ...     Crypto   \n",
              "1  Liputan6.com, Jakarta -Pangeran Harrybaru-baru...  Lifestyle   \n",
              "2  Liputan6.com, JakartaDi tengah tren fashion ya...        Hot   \n",
              "3  Liputan6.com, Jakarta -Menteri Usaha Mikro, Ke...     Bisnis   \n",
              "4  Liputan6.com, Jakarta -HargaBitcoinpada awal J...     Crypto   \n",
              "\n",
              "                                                Link  \n",
              "0  https://www.liputan6.com/crypto/read/6044965/t...  \n",
              "1  https://www.liputan6.com/lifestyle/read/604621...  \n",
              "2  https://www.liputan6.com/hot/read/5991426/reko...  \n",
              "3  https://www.liputan6.com/bisnis/read/6048618/m...  \n",
              "4  https://www.liputan6.com/crypto/read/6046066/d...  "
            ]
          },
          "execution_count": 57,
          "metadata": {},
          "output_type": "execute_result"
        }
      ],
      "source": [
        "fitur = ['Judul', 'Isi', 'Kategori', 'Link']\n",
        "df_liputan6 = df_liputan6[fitur]\n",
        "df_liputan6.head()"
      ]
    },
    {
      "cell_type": "code",
      "execution_count": 58,
      "metadata": {},
      "outputs": [
        {
          "name": "stdout",
          "output_type": "stream",
          "text": [
            "0\n"
          ]
        }
      ],
      "source": [
        "# periksa link duplikat\n",
        "print(df_liputan6['Link'].duplicated().sum())"
      ]
    },
    {
      "cell_type": "code",
      "execution_count": 59,
      "metadata": {},
      "outputs": [
        {
          "name": "stdout",
          "output_type": "stream",
          "text": [
            "0\n",
            "0\n",
            "0\n",
            "0\n"
          ]
        }
      ],
      "source": [
        "# cek nan di judul dan isi\n",
        "print(df_liputan6['Judul'].isna().sum())\n",
        "print(df_liputan6['Isi'].isna().sum())\n",
        "\n",
        "# cek judul dan isi yang kosong (isinya hanya spasi)\n",
        "print(df_liputan6[df_liputan6['Judul'].str.strip() == ''].shape[0])\n",
        "print(df_liputan6[df_liputan6['Isi'].str.strip() == ''].shape[0])"
      ]
    },
    {
      "cell_type": "code",
      "execution_count": 105,
      "metadata": {},
      "outputs": [
        {
          "name": "stdout",
          "output_type": "stream",
          "text": [
            "Index(['judul', 'isi', 'kategori', 'link'], dtype='object')\n"
          ]
        }
      ],
      "source": [
        "# ganti nama kolom\n",
        "# Judul --> judul\n",
        "# Isi --> isi\n",
        "# Kategori --> kategori\n",
        "# Link --> link\n",
        "df_liputan6.columns = ['judul', 'isi', 'kategori', 'link']\n",
        "\n",
        "# print nama kolom\n",
        "print(df_liputan6.columns)\n"
      ]
    },
    {
      "cell_type": "markdown",
      "metadata": {
        "id": "0hXoQ1FXxrJ7"
      },
      "source": [
        "## **Posmetro**"
      ]
    },
    {
      "cell_type": "code",
      "execution_count": 60,
      "metadata": {
        "colab": {
          "base_uri": "https://localhost:8080/",
          "height": 289
        },
        "id": "Sh_-irsxxZIk",
        "outputId": "488e6272-cfc5-4369-b0d2-3ddc9f1caf1d"
      },
      "outputs": [
        {
          "data": {
            "text/html": [
              "<div>\n",
              "<style scoped>\n",
              "    .dataframe tbody tr th:only-of-type {\n",
              "        vertical-align: middle;\n",
              "    }\n",
              "\n",
              "    .dataframe tbody tr th {\n",
              "        vertical-align: top;\n",
              "    }\n",
              "\n",
              "    .dataframe thead th {\n",
              "        text-align: right;\n",
              "    }\n",
              "</style>\n",
              "<table border=\"1\" class=\"dataframe\">\n",
              "  <thead>\n",
              "    <tr style=\"text-align: right;\">\n",
              "      <th></th>\n",
              "      <th>No</th>\n",
              "      <th>Sumber</th>\n",
              "      <th>Judul</th>\n",
              "      <th>Isi</th>\n",
              "      <th>Tanggal</th>\n",
              "      <th>Kategori</th>\n",
              "      <th>Link</th>\n",
              "    </tr>\n",
              "  </thead>\n",
              "  <tbody>\n",
              "    <tr>\n",
              "      <th>0</th>\n",
              "      <td>1</td>\n",
              "      <td>Posmetro.co.id</td>\n",
              "      <td>Bupati Indramayu Wujudkan Tata Kelola Pemerint...</td>\n",
              "      <td>Posmetro.co.id,INDRAMAYU –Bupati Indramayu, Lu...</td>\n",
              "      <td>Selasa, 3 Juni 2025-  13:35 WIB</td>\n",
              "      <td>Daerah</td>\n",
              "      <td>https://posmetro.co.id/bupati-indramayu-wujudk...</td>\n",
              "    </tr>\n",
              "    <tr>\n",
              "      <th>1</th>\n",
              "      <td>2</td>\n",
              "      <td>Posmetro.co.id</td>\n",
              "      <td>Bupati Dan Wabup Adakan Solat Bersama Di Alun-...</td>\n",
              "      <td>Posmetro.co.id,INDRAMAYU –Warga begitu banyak ...</td>\n",
              "      <td>Sabtu, 7 Juni 2025-  14:03 WIB</td>\n",
              "      <td>Daerah</td>\n",
              "      <td>https://posmetro.co.id/bupati-dan-wabup-adakan...</td>\n",
              "    </tr>\n",
              "    <tr>\n",
              "      <th>2</th>\n",
              "      <td>3</td>\n",
              "      <td>Posmetro.co.id</td>\n",
              "      <td>Wabup Indramayu Sidak Harga Bahan Pokok di Pas...</td>\n",
              "      <td>Posmetro.co.id,INDRAMAYU —Menjelang Hari Raya ...</td>\n",
              "      <td>Jumat, 6 Juni 2025-  17:27 WIB</td>\n",
              "      <td>Daerah</td>\n",
              "      <td>https://posmetro.co.id/wabup-indramayu-sidak-h...</td>\n",
              "    </tr>\n",
              "    <tr>\n",
              "      <th>3</th>\n",
              "      <td>4</td>\n",
              "      <td>Posmetro.co.id</td>\n",
              "      <td>Sambut Hari Raya Idhul Adha,Kilang Balongan Sa...</td>\n",
              "      <td>Posmetro.co.id,INDRAMAYU– Di lebaran haji ini,...</td>\n",
              "      <td>Minggu, 8 Juni 2025-  23:37 WIB</td>\n",
              "      <td>Daerah</td>\n",
              "      <td>https://posmetro.co.id/sambut-hari-raya-idhul-...</td>\n",
              "    </tr>\n",
              "    <tr>\n",
              "      <th>4</th>\n",
              "      <td>5</td>\n",
              "      <td>Posmetro.co.id</td>\n",
              "      <td>Dihadapan KPK,Bupati Dan Ketua DPRD Indramayy ...</td>\n",
              "      <td>Posmetro.co.id,INDRAMAYU —Bupati Indramayu Luc...</td>\n",
              "      <td>Rabu, 4 Juni 2025-  19:23 WIB</td>\n",
              "      <td>Daerah</td>\n",
              "      <td>https://posmetro.co.id/dihadapan-kpkbupati-dan...</td>\n",
              "    </tr>\n",
              "  </tbody>\n",
              "</table>\n",
              "</div>"
            ],
            "text/plain": [
              "   No          Sumber                                              Judul  \\\n",
              "0   1  Posmetro.co.id  Bupati Indramayu Wujudkan Tata Kelola Pemerint...   \n",
              "1   2  Posmetro.co.id  Bupati Dan Wabup Adakan Solat Bersama Di Alun-...   \n",
              "2   3  Posmetro.co.id  Wabup Indramayu Sidak Harga Bahan Pokok di Pas...   \n",
              "3   4  Posmetro.co.id  Sambut Hari Raya Idhul Adha,Kilang Balongan Sa...   \n",
              "4   5  Posmetro.co.id  Dihadapan KPK,Bupati Dan Ketua DPRD Indramayy ...   \n",
              "\n",
              "                                                 Isi  \\\n",
              "0  Posmetro.co.id,INDRAMAYU –Bupati Indramayu, Lu...   \n",
              "1  Posmetro.co.id,INDRAMAYU –Warga begitu banyak ...   \n",
              "2  Posmetro.co.id,INDRAMAYU —Menjelang Hari Raya ...   \n",
              "3  Posmetro.co.id,INDRAMAYU– Di lebaran haji ini,...   \n",
              "4  Posmetro.co.id,INDRAMAYU —Bupati Indramayu Luc...   \n",
              "\n",
              "                           Tanggal Kategori  \\\n",
              "0  Selasa, 3 Juni 2025-  13:35 WIB   Daerah   \n",
              "1   Sabtu, 7 Juni 2025-  14:03 WIB   Daerah   \n",
              "2   Jumat, 6 Juni 2025-  17:27 WIB   Daerah   \n",
              "3  Minggu, 8 Juni 2025-  23:37 WIB   Daerah   \n",
              "4    Rabu, 4 Juni 2025-  19:23 WIB   Daerah   \n",
              "\n",
              "                                                Link  \n",
              "0  https://posmetro.co.id/bupati-indramayu-wujudk...  \n",
              "1  https://posmetro.co.id/bupati-dan-wabup-adakan...  \n",
              "2  https://posmetro.co.id/wabup-indramayu-sidak-h...  \n",
              "3  https://posmetro.co.id/sambut-hari-raya-idhul-...  \n",
              "4  https://posmetro.co.id/dihadapan-kpkbupati-dan...  "
            ]
          },
          "execution_count": 60,
          "metadata": {},
          "output_type": "execute_result"
        }
      ],
      "source": [
        "df_posmetro.head()"
      ]
    },
    {
      "cell_type": "code",
      "execution_count": 61,
      "metadata": {
        "colab": {
          "base_uri": "https://localhost:8080/",
          "height": 289
        },
        "id": "_XPAm7ZuzxTX",
        "outputId": "d3d8424a-769c-4cc0-8fdb-5e2c79ee422d"
      },
      "outputs": [
        {
          "data": {
            "text/html": [
              "<div>\n",
              "<style scoped>\n",
              "    .dataframe tbody tr th:only-of-type {\n",
              "        vertical-align: middle;\n",
              "    }\n",
              "\n",
              "    .dataframe tbody tr th {\n",
              "        vertical-align: top;\n",
              "    }\n",
              "\n",
              "    .dataframe thead th {\n",
              "        text-align: right;\n",
              "    }\n",
              "</style>\n",
              "<table border=\"1\" class=\"dataframe\">\n",
              "  <thead>\n",
              "    <tr style=\"text-align: right;\">\n",
              "      <th></th>\n",
              "      <th>Judul</th>\n",
              "      <th>Isi</th>\n",
              "      <th>Kategori</th>\n",
              "      <th>Link</th>\n",
              "    </tr>\n",
              "  </thead>\n",
              "  <tbody>\n",
              "    <tr>\n",
              "      <th>0</th>\n",
              "      <td>Bupati Indramayu Wujudkan Tata Kelola Pemerint...</td>\n",
              "      <td>Posmetro.co.id,INDRAMAYU –Bupati Indramayu, Lu...</td>\n",
              "      <td>Daerah</td>\n",
              "      <td>https://posmetro.co.id/bupati-indramayu-wujudk...</td>\n",
              "    </tr>\n",
              "    <tr>\n",
              "      <th>1</th>\n",
              "      <td>Bupati Dan Wabup Adakan Solat Bersama Di Alun-...</td>\n",
              "      <td>Posmetro.co.id,INDRAMAYU –Warga begitu banyak ...</td>\n",
              "      <td>Daerah</td>\n",
              "      <td>https://posmetro.co.id/bupati-dan-wabup-adakan...</td>\n",
              "    </tr>\n",
              "    <tr>\n",
              "      <th>2</th>\n",
              "      <td>Wabup Indramayu Sidak Harga Bahan Pokok di Pas...</td>\n",
              "      <td>Posmetro.co.id,INDRAMAYU —Menjelang Hari Raya ...</td>\n",
              "      <td>Daerah</td>\n",
              "      <td>https://posmetro.co.id/wabup-indramayu-sidak-h...</td>\n",
              "    </tr>\n",
              "    <tr>\n",
              "      <th>3</th>\n",
              "      <td>Sambut Hari Raya Idhul Adha,Kilang Balongan Sa...</td>\n",
              "      <td>Posmetro.co.id,INDRAMAYU– Di lebaran haji ini,...</td>\n",
              "      <td>Daerah</td>\n",
              "      <td>https://posmetro.co.id/sambut-hari-raya-idhul-...</td>\n",
              "    </tr>\n",
              "    <tr>\n",
              "      <th>4</th>\n",
              "      <td>Dihadapan KPK,Bupati Dan Ketua DPRD Indramayy ...</td>\n",
              "      <td>Posmetro.co.id,INDRAMAYU —Bupati Indramayu Luc...</td>\n",
              "      <td>Daerah</td>\n",
              "      <td>https://posmetro.co.id/dihadapan-kpkbupati-dan...</td>\n",
              "    </tr>\n",
              "  </tbody>\n",
              "</table>\n",
              "</div>"
            ],
            "text/plain": [
              "                                               Judul  \\\n",
              "0  Bupati Indramayu Wujudkan Tata Kelola Pemerint...   \n",
              "1  Bupati Dan Wabup Adakan Solat Bersama Di Alun-...   \n",
              "2  Wabup Indramayu Sidak Harga Bahan Pokok di Pas...   \n",
              "3  Sambut Hari Raya Idhul Adha,Kilang Balongan Sa...   \n",
              "4  Dihadapan KPK,Bupati Dan Ketua DPRD Indramayy ...   \n",
              "\n",
              "                                                 Isi Kategori  \\\n",
              "0  Posmetro.co.id,INDRAMAYU –Bupati Indramayu, Lu...   Daerah   \n",
              "1  Posmetro.co.id,INDRAMAYU –Warga begitu banyak ...   Daerah   \n",
              "2  Posmetro.co.id,INDRAMAYU —Menjelang Hari Raya ...   Daerah   \n",
              "3  Posmetro.co.id,INDRAMAYU– Di lebaran haji ini,...   Daerah   \n",
              "4  Posmetro.co.id,INDRAMAYU —Bupati Indramayu Luc...   Daerah   \n",
              "\n",
              "                                                Link  \n",
              "0  https://posmetro.co.id/bupati-indramayu-wujudk...  \n",
              "1  https://posmetro.co.id/bupati-dan-wabup-adakan...  \n",
              "2  https://posmetro.co.id/wabup-indramayu-sidak-h...  \n",
              "3  https://posmetro.co.id/sambut-hari-raya-idhul-...  \n",
              "4  https://posmetro.co.id/dihadapan-kpkbupati-dan...  "
            ]
          },
          "execution_count": 61,
          "metadata": {},
          "output_type": "execute_result"
        }
      ],
      "source": [
        "df_posmetro = df_posmetro[fitur]\n",
        "df_posmetro.head()"
      ]
    },
    {
      "cell_type": "code",
      "execution_count": 62,
      "metadata": {},
      "outputs": [
        {
          "name": "stdout",
          "output_type": "stream",
          "text": [
            "0\n"
          ]
        }
      ],
      "source": [
        "# periksa link duplikat\n",
        "print(df_posmetro['Link'].duplicated().sum())"
      ]
    },
    {
      "cell_type": "code",
      "execution_count": 63,
      "metadata": {},
      "outputs": [
        {
          "name": "stdout",
          "output_type": "stream",
          "text": [
            "0\n",
            "0\n",
            "0\n",
            "0\n"
          ]
        }
      ],
      "source": [
        "# cek nan di judul dan isi\n",
        "print(df_posmetro['Judul'].isna().sum())\n",
        "print(df_posmetro['Isi'].isna().sum())\n",
        "\n",
        "# cek judul dan isi yang kosong (isinya hanya spasi)\n",
        "print(df_posmetro[df_posmetro['Judul'].str.strip() == ''].shape[0])\n",
        "print(df_posmetro[df_posmetro['Isi'].str.strip() == ''].shape[0])"
      ]
    },
    {
      "cell_type": "code",
      "execution_count": 106,
      "metadata": {},
      "outputs": [
        {
          "name": "stdout",
          "output_type": "stream",
          "text": [
            "Index(['judul', 'isi', 'kategori', 'link'], dtype='object')\n"
          ]
        }
      ],
      "source": [
        "# ganti nama kolom\n",
        "# Judul --> judul\n",
        "# Isi --> isi\n",
        "# Kategori --> kategori\n",
        "# Link --> link\n",
        "df_posmetro.columns = ['judul', 'isi', 'kategori', 'link']\n",
        "\n",
        "# print nama kolom\n",
        "print(df_posmetro.columns)\n"
      ]
    },
    {
      "cell_type": "markdown",
      "metadata": {
        "id": "bBpNzBDkxwVW"
      },
      "source": [
        "## **Detik**"
      ]
    },
    {
      "cell_type": "code",
      "execution_count": 64,
      "metadata": {
        "colab": {
          "base_uri": "https://localhost:8080/",
          "height": 425
        },
        "id": "eXAzGENrxc4R",
        "outputId": "0bac1037-173b-4635-a1f3-cfa4bc8cb9c9"
      },
      "outputs": [
        {
          "data": {
            "text/html": [
              "<div>\n",
              "<style scoped>\n",
              "    .dataframe tbody tr th:only-of-type {\n",
              "        vertical-align: middle;\n",
              "    }\n",
              "\n",
              "    .dataframe tbody tr th {\n",
              "        vertical-align: top;\n",
              "    }\n",
              "\n",
              "    .dataframe thead th {\n",
              "        text-align: right;\n",
              "    }\n",
              "</style>\n",
              "<table border=\"1\" class=\"dataframe\">\n",
              "  <thead>\n",
              "    <tr style=\"text-align: right;\">\n",
              "      <th></th>\n",
              "      <th>title</th>\n",
              "      <th>source</th>\n",
              "      <th>date</th>\n",
              "      <th>time</th>\n",
              "      <th>category</th>\n",
              "      <th>sub-category</th>\n",
              "      <th>content</th>\n",
              "      <th>url</th>\n",
              "      <th>author</th>\n",
              "    </tr>\n",
              "  </thead>\n",
              "  <tbody>\n",
              "    <tr>\n",
              "      <th>0</th>\n",
              "      <td>Alasan Luna Maya Mau Main di Film Jalan Pulang</td>\n",
              "      <td>hot.detik.com</td>\n",
              "      <td>06 Jun 2025</td>\n",
              "      <td>21:02</td>\n",
              "      <td>Movie</td>\n",
              "      <td>NaN</td>\n",
              "      <td>Jakarta\\r\\n-\\r\\nLuna Maya\\r\\nternyata memiliki...</td>\n",
              "      <td>https://hot.detik.com/movie/d-7952581/alasan-l...</td>\n",
              "      <td>Febryantino Nur Pratama - detikHot</td>\n",
              "    </tr>\n",
              "    <tr>\n",
              "      <th>1</th>\n",
              "      <td>Asosiasi Penambang Nikel: PT Gag Sudah Jalanka...</td>\n",
              "      <td>finance.detik.com</td>\n",
              "      <td>10 Jun 2025</td>\n",
              "      <td>17:16</td>\n",
              "      <td>Energi</td>\n",
              "      <td>NaN</td>\n",
              "      <td>Jakarta\\r\\n-\\r\\nAsosiasi Penambang Nikel Indon...</td>\n",
              "      <td>https://finance.detik.com/energi/d-7957717/aso...</td>\n",
              "      <td>Rahmat Khairurizqi - detikFinance</td>\n",
              "    </tr>\n",
              "    <tr>\n",
              "      <th>2</th>\n",
              "      <td>Fakta di Balik Viralnya Pendaki Disangka Menin...</td>\n",
              "      <td>travel.detik.com</td>\n",
              "      <td>10 Jun 2025</td>\n",
              "      <td>16:06</td>\n",
              "      <td>Travel News</td>\n",
              "      <td>NaN</td>\n",
              "      <td>Cianjur\\r\\n-\\r\\nBelakangan viral video pendaki...</td>\n",
              "      <td>https://travel.detik.com/travel-news/d-7957306...</td>\n",
              "      <td>Ikbal Selamet - detikTravel</td>\n",
              "    </tr>\n",
              "    <tr>\n",
              "      <th>3</th>\n",
              "      <td>Ada Pemutihan Pajak Kendaraan tapi Nggak Ikuta...</td>\n",
              "      <td>oto.detik.com</td>\n",
              "      <td>10 Jun 2025</td>\n",
              "      <td>08:35</td>\n",
              "      <td>Berita</td>\n",
              "      <td>NaN</td>\n",
              "      <td>Daftar Isi\\r\\nPemutihan Pajak Kendaraan Jangan...</td>\n",
              "      <td>https://oto.detik.com/berita/d-7956575/ada-pem...</td>\n",
              "      <td>Dina Rayanti - detikOto</td>\n",
              "    </tr>\n",
              "    <tr>\n",
              "      <th>4</th>\n",
              "      <td>5 Pembunuh WN Kamerun Ditangkap di Bali-NTT, M...</td>\n",
              "      <td>news.detik.com</td>\n",
              "      <td>10 Jun 2025</td>\n",
              "      <td>17:59</td>\n",
              "      <td>Berita</td>\n",
              "      <td>NaN</td>\n",
              "      <td>Jakarta\\r\\n-\\r\\nPolisi menangkap lima pelaku p...</td>\n",
              "      <td>https://news.detik.com/berita/d-7957812/5-pemb...</td>\n",
              "      <td>Rizky Adha Mahendra - detikNews</td>\n",
              "    </tr>\n",
              "  </tbody>\n",
              "</table>\n",
              "</div>"
            ],
            "text/plain": [
              "                                               title             source  \\\n",
              "0     Alasan Luna Maya Mau Main di Film Jalan Pulang      hot.detik.com   \n",
              "1  Asosiasi Penambang Nikel: PT Gag Sudah Jalanka...  finance.detik.com   \n",
              "2  Fakta di Balik Viralnya Pendaki Disangka Menin...   travel.detik.com   \n",
              "3  Ada Pemutihan Pajak Kendaraan tapi Nggak Ikuta...      oto.detik.com   \n",
              "4  5 Pembunuh WN Kamerun Ditangkap di Bali-NTT, M...     news.detik.com   \n",
              "\n",
              "          date   time     category  sub-category  \\\n",
              "0  06 Jun 2025  21:02        Movie           NaN   \n",
              "1  10 Jun 2025  17:16       Energi           NaN   \n",
              "2  10 Jun 2025  16:06  Travel News           NaN   \n",
              "3  10 Jun 2025  08:35       Berita           NaN   \n",
              "4  10 Jun 2025  17:59       Berita           NaN   \n",
              "\n",
              "                                             content  \\\n",
              "0  Jakarta\\r\\n-\\r\\nLuna Maya\\r\\nternyata memiliki...   \n",
              "1  Jakarta\\r\\n-\\r\\nAsosiasi Penambang Nikel Indon...   \n",
              "2  Cianjur\\r\\n-\\r\\nBelakangan viral video pendaki...   \n",
              "3  Daftar Isi\\r\\nPemutihan Pajak Kendaraan Jangan...   \n",
              "4  Jakarta\\r\\n-\\r\\nPolisi menangkap lima pelaku p...   \n",
              "\n",
              "                                                 url  \\\n",
              "0  https://hot.detik.com/movie/d-7952581/alasan-l...   \n",
              "1  https://finance.detik.com/energi/d-7957717/aso...   \n",
              "2  https://travel.detik.com/travel-news/d-7957306...   \n",
              "3  https://oto.detik.com/berita/d-7956575/ada-pem...   \n",
              "4  https://news.detik.com/berita/d-7957812/5-pemb...   \n",
              "\n",
              "                               author  \n",
              "0  Febryantino Nur Pratama - detikHot  \n",
              "1   Rahmat Khairurizqi - detikFinance  \n",
              "2         Ikbal Selamet - detikTravel  \n",
              "3             Dina Rayanti - detikOto  \n",
              "4     Rizky Adha Mahendra - detikNews  "
            ]
          },
          "execution_count": 64,
          "metadata": {},
          "output_type": "execute_result"
        }
      ],
      "source": [
        "df_detik.head()"
      ]
    },
    {
      "cell_type": "code",
      "execution_count": 65,
      "metadata": {
        "colab": {
          "base_uri": "https://localhost:8080/",
          "height": 289
        },
        "id": "xoXg9QIO0FW3",
        "outputId": "a9938402-548a-4526-a0b5-45409db62301"
      },
      "outputs": [
        {
          "data": {
            "text/html": [
              "<div>\n",
              "<style scoped>\n",
              "    .dataframe tbody tr th:only-of-type {\n",
              "        vertical-align: middle;\n",
              "    }\n",
              "\n",
              "    .dataframe tbody tr th {\n",
              "        vertical-align: top;\n",
              "    }\n",
              "\n",
              "    .dataframe thead th {\n",
              "        text-align: right;\n",
              "    }\n",
              "</style>\n",
              "<table border=\"1\" class=\"dataframe\">\n",
              "  <thead>\n",
              "    <tr style=\"text-align: right;\">\n",
              "      <th></th>\n",
              "      <th>title</th>\n",
              "      <th>category</th>\n",
              "      <th>content</th>\n",
              "      <th>url</th>\n",
              "    </tr>\n",
              "  </thead>\n",
              "  <tbody>\n",
              "    <tr>\n",
              "      <th>0</th>\n",
              "      <td>Alasan Luna Maya Mau Main di Film Jalan Pulang</td>\n",
              "      <td>Movie</td>\n",
              "      <td>Jakarta\\r\\n-\\r\\nLuna Maya\\r\\nternyata memiliki...</td>\n",
              "      <td>https://hot.detik.com/movie/d-7952581/alasan-l...</td>\n",
              "    </tr>\n",
              "    <tr>\n",
              "      <th>1</th>\n",
              "      <td>Asosiasi Penambang Nikel: PT Gag Sudah Jalanka...</td>\n",
              "      <td>Energi</td>\n",
              "      <td>Jakarta\\r\\n-\\r\\nAsosiasi Penambang Nikel Indon...</td>\n",
              "      <td>https://finance.detik.com/energi/d-7957717/aso...</td>\n",
              "    </tr>\n",
              "    <tr>\n",
              "      <th>2</th>\n",
              "      <td>Fakta di Balik Viralnya Pendaki Disangka Menin...</td>\n",
              "      <td>Travel News</td>\n",
              "      <td>Cianjur\\r\\n-\\r\\nBelakangan viral video pendaki...</td>\n",
              "      <td>https://travel.detik.com/travel-news/d-7957306...</td>\n",
              "    </tr>\n",
              "    <tr>\n",
              "      <th>3</th>\n",
              "      <td>Ada Pemutihan Pajak Kendaraan tapi Nggak Ikuta...</td>\n",
              "      <td>Berita</td>\n",
              "      <td>Daftar Isi\\r\\nPemutihan Pajak Kendaraan Jangan...</td>\n",
              "      <td>https://oto.detik.com/berita/d-7956575/ada-pem...</td>\n",
              "    </tr>\n",
              "    <tr>\n",
              "      <th>4</th>\n",
              "      <td>5 Pembunuh WN Kamerun Ditangkap di Bali-NTT, M...</td>\n",
              "      <td>Berita</td>\n",
              "      <td>Jakarta\\r\\n-\\r\\nPolisi menangkap lima pelaku p...</td>\n",
              "      <td>https://news.detik.com/berita/d-7957812/5-pemb...</td>\n",
              "    </tr>\n",
              "  </tbody>\n",
              "</table>\n",
              "</div>"
            ],
            "text/plain": [
              "                                               title     category  \\\n",
              "0     Alasan Luna Maya Mau Main di Film Jalan Pulang        Movie   \n",
              "1  Asosiasi Penambang Nikel: PT Gag Sudah Jalanka...       Energi   \n",
              "2  Fakta di Balik Viralnya Pendaki Disangka Menin...  Travel News   \n",
              "3  Ada Pemutihan Pajak Kendaraan tapi Nggak Ikuta...       Berita   \n",
              "4  5 Pembunuh WN Kamerun Ditangkap di Bali-NTT, M...       Berita   \n",
              "\n",
              "                                             content  \\\n",
              "0  Jakarta\\r\\n-\\r\\nLuna Maya\\r\\nternyata memiliki...   \n",
              "1  Jakarta\\r\\n-\\r\\nAsosiasi Penambang Nikel Indon...   \n",
              "2  Cianjur\\r\\n-\\r\\nBelakangan viral video pendaki...   \n",
              "3  Daftar Isi\\r\\nPemutihan Pajak Kendaraan Jangan...   \n",
              "4  Jakarta\\r\\n-\\r\\nPolisi menangkap lima pelaku p...   \n",
              "\n",
              "                                                 url  \n",
              "0  https://hot.detik.com/movie/d-7952581/alasan-l...  \n",
              "1  https://finance.detik.com/energi/d-7957717/aso...  \n",
              "2  https://travel.detik.com/travel-news/d-7957306...  \n",
              "3  https://oto.detik.com/berita/d-7956575/ada-pem...  \n",
              "4  https://news.detik.com/berita/d-7957812/5-pemb...  "
            ]
          },
          "execution_count": 65,
          "metadata": {},
          "output_type": "execute_result"
        }
      ],
      "source": [
        "fitur2 = ['title', 'category', 'content', 'url']\n",
        "df_detik = df_detik[fitur2]\n",
        "df_detik.head()"
      ]
    },
    {
      "cell_type": "code",
      "execution_count": 66,
      "metadata": {},
      "outputs": [
        {
          "name": "stdout",
          "output_type": "stream",
          "text": [
            "0\n"
          ]
        }
      ],
      "source": [
        "# periksa link duplikat\n",
        "print(df_detik['url'].duplicated().sum())"
      ]
    },
    {
      "cell_type": "code",
      "execution_count": 67,
      "metadata": {},
      "outputs": [
        {
          "name": "stdout",
          "output_type": "stream",
          "text": [
            "0\n",
            "73\n",
            "0\n",
            "0\n"
          ]
        }
      ],
      "source": [
        "# cek nan di judul dan isi\n",
        "print(df_detik['title'].isna().sum())\n",
        "print(df_detik['content'].isna().sum())\n",
        "\n",
        "# cek judul dan isi yang kosong (isinya hanya spasi)\n",
        "print(df_detik[df_detik['title'].str.strip() == ''].shape[0])\n",
        "print(df_detik[df_detik['content'].str.strip() == ''].shape[0])"
      ]
    },
    {
      "cell_type": "code",
      "execution_count": 68,
      "metadata": {},
      "outputs": [
        {
          "name": "stdout",
          "output_type": "stream",
          "text": [
            "0\n"
          ]
        }
      ],
      "source": [
        "# drop konten nan\n",
        "df_detik = df_detik.dropna(subset=['content'])\n",
        "print(df_detik['content'].isna().sum())"
      ]
    },
    {
      "cell_type": "code",
      "execution_count": 107,
      "metadata": {},
      "outputs": [
        {
          "name": "stdout",
          "output_type": "stream",
          "text": [
            "Index(['judul', 'isi', 'kategori', 'link'], dtype='object')\n"
          ]
        }
      ],
      "source": [
        "# ganti nama kolom\n",
        "# Judul --> judul\n",
        "# Isi --> isi\n",
        "# Kategori --> kategori\n",
        "# Link --> link\n",
        "df_detik.columns = ['judul', 'isi', 'kategori', 'link']\n",
        "\n",
        "# print nama kolom\n",
        "print(df_detik.columns)\n"
      ]
    },
    {
      "cell_type": "markdown",
      "metadata": {
        "id": "QTPMOKGLyGYP"
      },
      "source": [
        "## **fimela**"
      ]
    },
    {
      "cell_type": "code",
      "execution_count": 69,
      "metadata": {
        "colab": {
          "base_uri": "https://localhost:8080/",
          "height": 632
        },
        "id": "8wzY3HMAx2BU",
        "outputId": "84c84b62-e364-4c5b-b00b-632df904c757"
      },
      "outputs": [
        {
          "data": {
            "text/html": [
              "<div>\n",
              "<style scoped>\n",
              "    .dataframe tbody tr th:only-of-type {\n",
              "        vertical-align: middle;\n",
              "    }\n",
              "\n",
              "    .dataframe tbody tr th {\n",
              "        vertical-align: top;\n",
              "    }\n",
              "\n",
              "    .dataframe thead th {\n",
              "        text-align: right;\n",
              "    }\n",
              "</style>\n",
              "<table border=\"1\" class=\"dataframe\">\n",
              "  <thead>\n",
              "    <tr style=\"text-align: right;\">\n",
              "      <th></th>\n",
              "      <th>title</th>\n",
              "      <th>source</th>\n",
              "      <th>date</th>\n",
              "      <th>time</th>\n",
              "      <th>category</th>\n",
              "      <th>sub-category</th>\n",
              "      <th>content</th>\n",
              "      <th>url</th>\n",
              "      <th>author</th>\n",
              "    </tr>\n",
              "  </thead>\n",
              "  <tbody>\n",
              "    <tr>\n",
              "      <th>0</th>\n",
              "      <td>Kulit Cerah Alami, 6 Tips Memilih Produk Peraw...</td>\n",
              "      <td>www.fimela.com</td>\n",
              "      <td>07 Mar 2025</td>\n",
              "      <td>11:36</td>\n",
              "      <td>Beauty</td>\n",
              "      <td>NaN</td>\n",
              "      <td>Fimela.com, Jakarta\\r\\nMenjaga kesehatan kulit...</td>\n",
              "      <td>https://www.fimela.com/beauty/read/5948427/kul...</td>\n",
              "      <td>Mochamad Rizal Ahba Ohorella</td>\n",
              "    </tr>\n",
              "    <tr>\n",
              "      <th>1</th>\n",
              "      <td>5 Desain Rumah Split Level Sederhana yang Nyam...</td>\n",
              "      <td>www.fimela.com</td>\n",
              "      <td>30 Mei 2025</td>\n",
              "      <td>14:28</td>\n",
              "      <td>Lifestyle</td>\n",
              "      <td>NaN</td>\n",
              "      <td>Fimela.com, Jakarta\\r\\nKonsep hunian split lev...</td>\n",
              "      <td>https://www.fimela.com/lifestyle/read/6038071/...</td>\n",
              "      <td>Miranti</td>\n",
              "    </tr>\n",
              "    <tr>\n",
              "      <th>2</th>\n",
              "      <td>Maudy Ayunda Tampil Effortless Tapi Tetap Arts...</td>\n",
              "      <td>www.fimela.com</td>\n",
              "      <td>15 Mei 2025</td>\n",
              "      <td>12:00</td>\n",
              "      <td>Entertainment</td>\n",
              "      <td>NaN</td>\n",
              "      <td>Fimela.com, Jakarta\\r\\nGaya berpakaian bukan h...</td>\n",
              "      <td>https://www.fimela.com/entertainment/read/6022...</td>\n",
              "      <td>Rianti Fitri Wulandari</td>\n",
              "    </tr>\n",
              "    <tr>\n",
              "      <th>3</th>\n",
              "      <td>Jennie BLACKPINK Umumkan Tanggal Rilis Album R...</td>\n",
              "      <td>www.fimela.com</td>\n",
              "      <td>22 Jan 2025</td>\n",
              "      <td>12:33</td>\n",
              "      <td>Entertainment</td>\n",
              "      <td>NaN</td>\n",
              "      <td>Fimela.com, Jakarta\\r\\nJennie BLACKPINK telah ...</td>\n",
              "      <td>https://www.fimela.com/entertainment/read/5891...</td>\n",
              "      <td>Miranti</td>\n",
              "    </tr>\n",
              "    <tr>\n",
              "      <th>4</th>\n",
              "      <td>Potret Luna Maya Tampil Jadi Gadis Shanghai Me...</td>\n",
              "      <td>www.fimela.com</td>\n",
              "      <td>23 Apr 2025</td>\n",
              "      <td>13:30</td>\n",
              "      <td>Fashion</td>\n",
              "      <td>NaN</td>\n",
              "      <td>Fimela.com, Jakarta\\r\\nSebelum melepas masa la...</td>\n",
              "      <td>https://www.fimela.com/fashion/read/6002629/po...</td>\n",
              "      <td>Anisha Saktian Putri</td>\n",
              "    </tr>\n",
              "  </tbody>\n",
              "</table>\n",
              "</div>"
            ],
            "text/plain": [
              "                                               title          source  \\\n",
              "0  Kulit Cerah Alami, 6 Tips Memilih Produk Peraw...  www.fimela.com   \n",
              "1  5 Desain Rumah Split Level Sederhana yang Nyam...  www.fimela.com   \n",
              "2  Maudy Ayunda Tampil Effortless Tapi Tetap Arts...  www.fimela.com   \n",
              "3  Jennie BLACKPINK Umumkan Tanggal Rilis Album R...  www.fimela.com   \n",
              "4  Potret Luna Maya Tampil Jadi Gadis Shanghai Me...  www.fimela.com   \n",
              "\n",
              "          date   time       category  sub-category  \\\n",
              "0  07 Mar 2025  11:36         Beauty           NaN   \n",
              "1  30 Mei 2025  14:28      Lifestyle           NaN   \n",
              "2  15 Mei 2025  12:00  Entertainment           NaN   \n",
              "3  22 Jan 2025  12:33  Entertainment           NaN   \n",
              "4  23 Apr 2025  13:30        Fashion           NaN   \n",
              "\n",
              "                                             content  \\\n",
              "0  Fimela.com, Jakarta\\r\\nMenjaga kesehatan kulit...   \n",
              "1  Fimela.com, Jakarta\\r\\nKonsep hunian split lev...   \n",
              "2  Fimela.com, Jakarta\\r\\nGaya berpakaian bukan h...   \n",
              "3  Fimela.com, Jakarta\\r\\nJennie BLACKPINK telah ...   \n",
              "4  Fimela.com, Jakarta\\r\\nSebelum melepas masa la...   \n",
              "\n",
              "                                                 url  \\\n",
              "0  https://www.fimela.com/beauty/read/5948427/kul...   \n",
              "1  https://www.fimela.com/lifestyle/read/6038071/...   \n",
              "2  https://www.fimela.com/entertainment/read/6022...   \n",
              "3  https://www.fimela.com/entertainment/read/5891...   \n",
              "4  https://www.fimela.com/fashion/read/6002629/po...   \n",
              "\n",
              "                         author  \n",
              "0  Mochamad Rizal Ahba Ohorella  \n",
              "1                       Miranti  \n",
              "2        Rianti Fitri Wulandari  \n",
              "3                       Miranti  \n",
              "4          Anisha Saktian Putri  "
            ]
          },
          "execution_count": 69,
          "metadata": {},
          "output_type": "execute_result"
        }
      ],
      "source": [
        "df_fimela.head()"
      ]
    },
    {
      "cell_type": "code",
      "execution_count": 70,
      "metadata": {
        "colab": {
          "base_uri": "https://localhost:8080/",
          "height": 289
        },
        "id": "jT26e02q0P1S",
        "outputId": "102f1fcd-0674-4905-cf43-35f9d33a258c"
      },
      "outputs": [
        {
          "data": {
            "text/html": [
              "<div>\n",
              "<style scoped>\n",
              "    .dataframe tbody tr th:only-of-type {\n",
              "        vertical-align: middle;\n",
              "    }\n",
              "\n",
              "    .dataframe tbody tr th {\n",
              "        vertical-align: top;\n",
              "    }\n",
              "\n",
              "    .dataframe thead th {\n",
              "        text-align: right;\n",
              "    }\n",
              "</style>\n",
              "<table border=\"1\" class=\"dataframe\">\n",
              "  <thead>\n",
              "    <tr style=\"text-align: right;\">\n",
              "      <th></th>\n",
              "      <th>title</th>\n",
              "      <th>category</th>\n",
              "      <th>content</th>\n",
              "      <th>url</th>\n",
              "    </tr>\n",
              "  </thead>\n",
              "  <tbody>\n",
              "    <tr>\n",
              "      <th>0</th>\n",
              "      <td>Kulit Cerah Alami, 6 Tips Memilih Produk Peraw...</td>\n",
              "      <td>Beauty</td>\n",
              "      <td>Fimela.com, Jakarta\\r\\nMenjaga kesehatan kulit...</td>\n",
              "      <td>https://www.fimela.com/beauty/read/5948427/kul...</td>\n",
              "    </tr>\n",
              "    <tr>\n",
              "      <th>1</th>\n",
              "      <td>5 Desain Rumah Split Level Sederhana yang Nyam...</td>\n",
              "      <td>Lifestyle</td>\n",
              "      <td>Fimela.com, Jakarta\\r\\nKonsep hunian split lev...</td>\n",
              "      <td>https://www.fimela.com/lifestyle/read/6038071/...</td>\n",
              "    </tr>\n",
              "    <tr>\n",
              "      <th>2</th>\n",
              "      <td>Maudy Ayunda Tampil Effortless Tapi Tetap Arts...</td>\n",
              "      <td>Entertainment</td>\n",
              "      <td>Fimela.com, Jakarta\\r\\nGaya berpakaian bukan h...</td>\n",
              "      <td>https://www.fimela.com/entertainment/read/6022...</td>\n",
              "    </tr>\n",
              "    <tr>\n",
              "      <th>3</th>\n",
              "      <td>Jennie BLACKPINK Umumkan Tanggal Rilis Album R...</td>\n",
              "      <td>Entertainment</td>\n",
              "      <td>Fimela.com, Jakarta\\r\\nJennie BLACKPINK telah ...</td>\n",
              "      <td>https://www.fimela.com/entertainment/read/5891...</td>\n",
              "    </tr>\n",
              "    <tr>\n",
              "      <th>4</th>\n",
              "      <td>Potret Luna Maya Tampil Jadi Gadis Shanghai Me...</td>\n",
              "      <td>Fashion</td>\n",
              "      <td>Fimela.com, Jakarta\\r\\nSebelum melepas masa la...</td>\n",
              "      <td>https://www.fimela.com/fashion/read/6002629/po...</td>\n",
              "    </tr>\n",
              "  </tbody>\n",
              "</table>\n",
              "</div>"
            ],
            "text/plain": [
              "                                               title       category  \\\n",
              "0  Kulit Cerah Alami, 6 Tips Memilih Produk Peraw...         Beauty   \n",
              "1  5 Desain Rumah Split Level Sederhana yang Nyam...      Lifestyle   \n",
              "2  Maudy Ayunda Tampil Effortless Tapi Tetap Arts...  Entertainment   \n",
              "3  Jennie BLACKPINK Umumkan Tanggal Rilis Album R...  Entertainment   \n",
              "4  Potret Luna Maya Tampil Jadi Gadis Shanghai Me...        Fashion   \n",
              "\n",
              "                                             content  \\\n",
              "0  Fimela.com, Jakarta\\r\\nMenjaga kesehatan kulit...   \n",
              "1  Fimela.com, Jakarta\\r\\nKonsep hunian split lev...   \n",
              "2  Fimela.com, Jakarta\\r\\nGaya berpakaian bukan h...   \n",
              "3  Fimela.com, Jakarta\\r\\nJennie BLACKPINK telah ...   \n",
              "4  Fimela.com, Jakarta\\r\\nSebelum melepas masa la...   \n",
              "\n",
              "                                                 url  \n",
              "0  https://www.fimela.com/beauty/read/5948427/kul...  \n",
              "1  https://www.fimela.com/lifestyle/read/6038071/...  \n",
              "2  https://www.fimela.com/entertainment/read/6022...  \n",
              "3  https://www.fimela.com/entertainment/read/5891...  \n",
              "4  https://www.fimela.com/fashion/read/6002629/po...  "
            ]
          },
          "execution_count": 70,
          "metadata": {},
          "output_type": "execute_result"
        }
      ],
      "source": [
        "df_fimela = df_fimela[fitur2]\n",
        "df_fimela.head()"
      ]
    },
    {
      "cell_type": "code",
      "execution_count": 71,
      "metadata": {},
      "outputs": [
        {
          "name": "stdout",
          "output_type": "stream",
          "text": [
            "0\n"
          ]
        }
      ],
      "source": [
        "# periksa link duplikat\n",
        "print(df_fimela['url'].duplicated().sum())"
      ]
    },
    {
      "cell_type": "code",
      "execution_count": 72,
      "metadata": {},
      "outputs": [
        {
          "name": "stdout",
          "output_type": "stream",
          "text": [
            "0\n",
            "1\n",
            "0\n",
            "0\n"
          ]
        }
      ],
      "source": [
        "# cek nan di judul dan isi\n",
        "print(df_fimela['title'].isna().sum())\n",
        "print(df_fimela['content'].isna().sum())\n",
        "\n",
        "# cek judul dan isi yang kosong (isinya hanya spasi)\n",
        "print(df_fimela[df_fimela['title'].str.strip() == ''].shape[0])\n",
        "print(df_fimela[df_fimela['content'].str.strip() == ''].shape[0])"
      ]
    },
    {
      "cell_type": "code",
      "execution_count": 73,
      "metadata": {},
      "outputs": [
        {
          "name": "stdout",
          "output_type": "stream",
          "text": [
            "0\n"
          ]
        }
      ],
      "source": [
        "# drop content yang kosong\n",
        "df_fimela = df_fimela.dropna(subset=['content'])\n",
        "print(df_fimela['content'].isna().sum())"
      ]
    },
    {
      "cell_type": "code",
      "execution_count": 108,
      "metadata": {},
      "outputs": [
        {
          "name": "stdout",
          "output_type": "stream",
          "text": [
            "Index(['judul', 'isi', 'kategori', 'link'], dtype='object')\n"
          ]
        }
      ],
      "source": [
        "# ganti nama kolom\n",
        "# Judul --> judul\n",
        "# Isi --> isi\n",
        "# Kategori --> kategori\n",
        "# Link --> link\n",
        "df_fimela.columns = ['judul', 'isi', 'kategori', 'link']\n",
        "\n",
        "# print nama kolom\n",
        "print(df_fimela.columns)\n"
      ]
    },
    {
      "cell_type": "markdown",
      "metadata": {
        "id": "p9dtfsATykiq"
      },
      "source": [
        "## **kapanlagi**"
      ]
    },
    {
      "cell_type": "code",
      "execution_count": 74,
      "metadata": {
        "colab": {
          "base_uri": "https://localhost:8080/",
          "height": 515
        },
        "id": "A7hb_FCWyIOK",
        "outputId": "552b12d7-b343-4263-a0a3-9083af05fab9"
      },
      "outputs": [
        {
          "data": {
            "text/html": [
              "<div>\n",
              "<style scoped>\n",
              "    .dataframe tbody tr th:only-of-type {\n",
              "        vertical-align: middle;\n",
              "    }\n",
              "\n",
              "    .dataframe tbody tr th {\n",
              "        vertical-align: top;\n",
              "    }\n",
              "\n",
              "    .dataframe thead th {\n",
              "        text-align: right;\n",
              "    }\n",
              "</style>\n",
              "<table border=\"1\" class=\"dataframe\">\n",
              "  <thead>\n",
              "    <tr style=\"text-align: right;\">\n",
              "      <th></th>\n",
              "      <th>title</th>\n",
              "      <th>source</th>\n",
              "      <th>date</th>\n",
              "      <th>time</th>\n",
              "      <th>category</th>\n",
              "      <th>sub-category</th>\n",
              "      <th>content</th>\n",
              "      <th>url</th>\n",
              "    </tr>\n",
              "  </thead>\n",
              "  <tbody>\n",
              "    <tr>\n",
              "      <th>0</th>\n",
              "      <td>Billy Syahputra Ungkap Alasan Belikan Mobil Be...</td>\n",
              "      <td>www.kapanlagi.com</td>\n",
              "      <td>Tidak Ditemukan</td>\n",
              "      <td>NaN</td>\n",
              "      <td>NaN</td>\n",
              "      <td>NaN</td>\n",
              "      <td>Billy Syahputra membuat kejutan manis untuk sa...</td>\n",
              "      <td>https://www.kapanlagi.com/foto/berita-foto/ind...</td>\n",
              "    </tr>\n",
              "    <tr>\n",
              "      <th>1</th>\n",
              "      <td>Perbedaan Tinggi Pasangan di Drama China yang ...</td>\n",
              "      <td>www.kapanlagi.com</td>\n",
              "      <td>10 Juni 2025</td>\n",
              "      <td>13:21</td>\n",
              "      <td>NaN</td>\n",
              "      <td>NaN</td>\n",
              "      <td>Kapanlagi.com - Ketika nonton drama China roma...</td>\n",
              "      <td>https://www.kapanlagi.com/korea/perbedaan-ting...</td>\n",
              "    </tr>\n",
              "    <tr>\n",
              "      <th>2</th>\n",
              "      <td>5 Drama Thailand Ini Bukti Member 4EVE Tak Han...</td>\n",
              "      <td>www.kapanlagi.com</td>\n",
              "      <td>10 Juni 2025</td>\n",
              "      <td>12:11</td>\n",
              "      <td>NaN</td>\n",
              "      <td>NaN</td>\n",
              "      <td>Kapanlagi.com - Girl group Thailand 4EVE telah...</td>\n",
              "      <td>https://www.kapanlagi.com/korea/5-drama-thaila...</td>\n",
              "    </tr>\n",
              "    <tr>\n",
              "      <th>3</th>\n",
              "      <td>Profil Youngseo ALLDAY PROJECT, Mantan Anggota...</td>\n",
              "      <td>www.kapanlagi.com</td>\n",
              "      <td>10 Juni 2025</td>\n",
              "      <td>09:30</td>\n",
              "      <td>NaN</td>\n",
              "      <td>NaN</td>\n",
              "      <td>Kapanlagi.com - Lama tak terdengar kabarnya se...</td>\n",
              "      <td>https://www.kapanlagi.com/korea/profil-youngse...</td>\n",
              "    </tr>\n",
              "    <tr>\n",
              "      <th>4</th>\n",
              "      <td>7 Potret Nadya Arina Ungkap Premis Utama Film ...</td>\n",
              "      <td>www.kapanlagi.com</td>\n",
              "      <td>Tidak Ditemukan</td>\n",
              "      <td>NaN</td>\n",
              "      <td>NaN</td>\n",
              "      <td>NaN</td>\n",
              "      <td>Pertengahan tahun 2025 ini, dunia film Indones...</td>\n",
              "      <td>https://www.kapanlagi.com/foto/berita-foto/ind...</td>\n",
              "    </tr>\n",
              "  </tbody>\n",
              "</table>\n",
              "</div>"
            ],
            "text/plain": [
              "                                               title             source  \\\n",
              "0  Billy Syahputra Ungkap Alasan Belikan Mobil Be...  www.kapanlagi.com   \n",
              "1  Perbedaan Tinggi Pasangan di Drama China yang ...  www.kapanlagi.com   \n",
              "2  5 Drama Thailand Ini Bukti Member 4EVE Tak Han...  www.kapanlagi.com   \n",
              "3  Profil Youngseo ALLDAY PROJECT, Mantan Anggota...  www.kapanlagi.com   \n",
              "4  7 Potret Nadya Arina Ungkap Premis Utama Film ...  www.kapanlagi.com   \n",
              "\n",
              "              date   time  category  sub-category  \\\n",
              "0  Tidak Ditemukan    NaN       NaN           NaN   \n",
              "1     10 Juni 2025  13:21       NaN           NaN   \n",
              "2     10 Juni 2025  12:11       NaN           NaN   \n",
              "3     10 Juni 2025  09:30       NaN           NaN   \n",
              "4  Tidak Ditemukan    NaN       NaN           NaN   \n",
              "\n",
              "                                             content  \\\n",
              "0  Billy Syahputra membuat kejutan manis untuk sa...   \n",
              "1  Kapanlagi.com - Ketika nonton drama China roma...   \n",
              "2  Kapanlagi.com - Girl group Thailand 4EVE telah...   \n",
              "3  Kapanlagi.com - Lama tak terdengar kabarnya se...   \n",
              "4  Pertengahan tahun 2025 ini, dunia film Indones...   \n",
              "\n",
              "                                                 url  \n",
              "0  https://www.kapanlagi.com/foto/berita-foto/ind...  \n",
              "1  https://www.kapanlagi.com/korea/perbedaan-ting...  \n",
              "2  https://www.kapanlagi.com/korea/5-drama-thaila...  \n",
              "3  https://www.kapanlagi.com/korea/profil-youngse...  \n",
              "4  https://www.kapanlagi.com/foto/berita-foto/ind...  "
            ]
          },
          "execution_count": 74,
          "metadata": {},
          "output_type": "execute_result"
        }
      ],
      "source": [
        "df_kapanlagi.head()"
      ]
    },
    {
      "cell_type": "code",
      "execution_count": 75,
      "metadata": {
        "colab": {
          "base_uri": "https://localhost:8080/",
          "height": 289
        },
        "id": "ZhSUAPlH0Ufi",
        "outputId": "180302fa-c35c-425c-d4c1-d3ed271784ae"
      },
      "outputs": [
        {
          "data": {
            "text/html": [
              "<div>\n",
              "<style scoped>\n",
              "    .dataframe tbody tr th:only-of-type {\n",
              "        vertical-align: middle;\n",
              "    }\n",
              "\n",
              "    .dataframe tbody tr th {\n",
              "        vertical-align: top;\n",
              "    }\n",
              "\n",
              "    .dataframe thead th {\n",
              "        text-align: right;\n",
              "    }\n",
              "</style>\n",
              "<table border=\"1\" class=\"dataframe\">\n",
              "  <thead>\n",
              "    <tr style=\"text-align: right;\">\n",
              "      <th></th>\n",
              "      <th>title</th>\n",
              "      <th>category</th>\n",
              "      <th>content</th>\n",
              "      <th>url</th>\n",
              "    </tr>\n",
              "  </thead>\n",
              "  <tbody>\n",
              "    <tr>\n",
              "      <th>0</th>\n",
              "      <td>Billy Syahputra Ungkap Alasan Belikan Mobil Be...</td>\n",
              "      <td>NaN</td>\n",
              "      <td>Billy Syahputra membuat kejutan manis untuk sa...</td>\n",
              "      <td>https://www.kapanlagi.com/foto/berita-foto/ind...</td>\n",
              "    </tr>\n",
              "    <tr>\n",
              "      <th>1</th>\n",
              "      <td>Perbedaan Tinggi Pasangan di Drama China yang ...</td>\n",
              "      <td>NaN</td>\n",
              "      <td>Kapanlagi.com - Ketika nonton drama China roma...</td>\n",
              "      <td>https://www.kapanlagi.com/korea/perbedaan-ting...</td>\n",
              "    </tr>\n",
              "    <tr>\n",
              "      <th>2</th>\n",
              "      <td>5 Drama Thailand Ini Bukti Member 4EVE Tak Han...</td>\n",
              "      <td>NaN</td>\n",
              "      <td>Kapanlagi.com - Girl group Thailand 4EVE telah...</td>\n",
              "      <td>https://www.kapanlagi.com/korea/5-drama-thaila...</td>\n",
              "    </tr>\n",
              "    <tr>\n",
              "      <th>3</th>\n",
              "      <td>Profil Youngseo ALLDAY PROJECT, Mantan Anggota...</td>\n",
              "      <td>NaN</td>\n",
              "      <td>Kapanlagi.com - Lama tak terdengar kabarnya se...</td>\n",
              "      <td>https://www.kapanlagi.com/korea/profil-youngse...</td>\n",
              "    </tr>\n",
              "    <tr>\n",
              "      <th>4</th>\n",
              "      <td>7 Potret Nadya Arina Ungkap Premis Utama Film ...</td>\n",
              "      <td>NaN</td>\n",
              "      <td>Pertengahan tahun 2025 ini, dunia film Indones...</td>\n",
              "      <td>https://www.kapanlagi.com/foto/berita-foto/ind...</td>\n",
              "    </tr>\n",
              "  </tbody>\n",
              "</table>\n",
              "</div>"
            ],
            "text/plain": [
              "                                               title  category  \\\n",
              "0  Billy Syahputra Ungkap Alasan Belikan Mobil Be...       NaN   \n",
              "1  Perbedaan Tinggi Pasangan di Drama China yang ...       NaN   \n",
              "2  5 Drama Thailand Ini Bukti Member 4EVE Tak Han...       NaN   \n",
              "3  Profil Youngseo ALLDAY PROJECT, Mantan Anggota...       NaN   \n",
              "4  7 Potret Nadya Arina Ungkap Premis Utama Film ...       NaN   \n",
              "\n",
              "                                             content  \\\n",
              "0  Billy Syahputra membuat kejutan manis untuk sa...   \n",
              "1  Kapanlagi.com - Ketika nonton drama China roma...   \n",
              "2  Kapanlagi.com - Girl group Thailand 4EVE telah...   \n",
              "3  Kapanlagi.com - Lama tak terdengar kabarnya se...   \n",
              "4  Pertengahan tahun 2025 ini, dunia film Indones...   \n",
              "\n",
              "                                                 url  \n",
              "0  https://www.kapanlagi.com/foto/berita-foto/ind...  \n",
              "1  https://www.kapanlagi.com/korea/perbedaan-ting...  \n",
              "2  https://www.kapanlagi.com/korea/5-drama-thaila...  \n",
              "3  https://www.kapanlagi.com/korea/profil-youngse...  \n",
              "4  https://www.kapanlagi.com/foto/berita-foto/ind...  "
            ]
          },
          "execution_count": 75,
          "metadata": {},
          "output_type": "execute_result"
        }
      ],
      "source": [
        "df_kapanlagi = df_kapanlagi[fitur2]\n",
        "df_kapanlagi.head()"
      ]
    },
    {
      "cell_type": "code",
      "execution_count": 76,
      "metadata": {},
      "outputs": [
        {
          "name": "stdout",
          "output_type": "stream",
          "text": [
            "0\n"
          ]
        }
      ],
      "source": [
        "# periksa link duplikat\n",
        "print(df_kapanlagi['url'].duplicated().sum())"
      ]
    },
    {
      "cell_type": "code",
      "execution_count": 77,
      "metadata": {},
      "outputs": [
        {
          "name": "stdout",
          "output_type": "stream",
          "text": [
            "0\n",
            "0\n",
            "0\n",
            "0\n"
          ]
        }
      ],
      "source": [
        "# cek nan di judul dan isi\n",
        "print(df_kapanlagi['title'].isna().sum())\n",
        "print(df_kapanlagi['content'].isna().sum())\n",
        "\n",
        "# cek judul dan isi yang kosong (isinya hanya spasi)\n",
        "print(df_kapanlagi[df_kapanlagi['title'].str.strip() == ''].shape[0])\n",
        "print(df_kapanlagi[df_kapanlagi['content'].str.strip() == ''].shape[0])"
      ]
    },
    {
      "cell_type": "code",
      "execution_count": 109,
      "metadata": {},
      "outputs": [
        {
          "name": "stdout",
          "output_type": "stream",
          "text": [
            "Index(['judul', 'isi', 'kategori', 'link'], dtype='object')\n"
          ]
        }
      ],
      "source": [
        "# ganti nama kolom\n",
        "# Judul --> judul\n",
        "# Isi --> isi\n",
        "# Kategori --> kategori\n",
        "# Link --> link\n",
        "df_kapanlagi.columns = ['judul', 'isi', 'kategori', 'link']\n",
        "\n",
        "# print nama kolom\n",
        "print(df_kapanlagi.columns)\n"
      ]
    },
    {
      "cell_type": "markdown",
      "metadata": {
        "id": "Glt0RVZpy87L"
      },
      "source": [
        "## **Kompas**"
      ]
    },
    {
      "cell_type": "code",
      "execution_count": 78,
      "metadata": {
        "colab": {
          "base_uri": "https://localhost:8080/",
          "height": 598
        },
        "id": "65EelbuEyjP4",
        "outputId": "a5f76b82-a46d-457a-9210-621be53045c3"
      },
      "outputs": [
        {
          "data": {
            "text/html": [
              "<div>\n",
              "<style scoped>\n",
              "    .dataframe tbody tr th:only-of-type {\n",
              "        vertical-align: middle;\n",
              "    }\n",
              "\n",
              "    .dataframe tbody tr th {\n",
              "        vertical-align: top;\n",
              "    }\n",
              "\n",
              "    .dataframe thead th {\n",
              "        text-align: right;\n",
              "    }\n",
              "</style>\n",
              "<table border=\"1\" class=\"dataframe\">\n",
              "  <thead>\n",
              "    <tr style=\"text-align: right;\">\n",
              "      <th></th>\n",
              "      <th>title</th>\n",
              "      <th>source</th>\n",
              "      <th>date</th>\n",
              "      <th>time</th>\n",
              "      <th>category</th>\n",
              "      <th>sub-category</th>\n",
              "      <th>content</th>\n",
              "      <th>url</th>\n",
              "      <th>author</th>\n",
              "    </tr>\n",
              "  </thead>\n",
              "  <tbody>\n",
              "    <tr>\n",
              "      <th>0</th>\n",
              "      <td>Pengamat: Polisi yang Lecehkan Korban Pemerkos...</td>\n",
              "      <td>nasional.kompas.com</td>\n",
              "      <td>Kompas.com - 10/06/2025, 21:23 WIB</td>\n",
              "      <td>21:23</td>\n",
              "      <td>Kompas.com</td>\n",
              "      <td>NaN</td>\n",
              "      <td>JAKARTA, KOMPAS.com\\r\\n- Direktur Eksekutif Th...</td>\n",
              "      <td>https://nasional.kompas.com/read/2025/06/10/21...</td>\n",
              "      <td>Singgih Wiryono,            \\r\\n\\r\\n          ...</td>\n",
              "    </tr>\n",
              "    <tr>\n",
              "      <th>1</th>\n",
              "      <td>Hasil Kualifikasi Piala Dunia 2026: Jepang Vs ...</td>\n",
              "      <td>bola.kompas.com</td>\n",
              "      <td>Kompas.com - 10/06/2025, 20:28 WIB</td>\n",
              "      <td>20:28</td>\n",
              "      <td>Kompas.com</td>\n",
              "      <td>NaN</td>\n",
              "      <td>KOMPAS.com\\r\\n-\\r\\nTimnas Indonesia\\r\\nmenelan...</td>\n",
              "      <td>https://bola.kompas.com/read/2025/06/10/202810...</td>\n",
              "      <td>Tim Kompas.com,            \\r\\n\\r\\n           ...</td>\n",
              "    </tr>\n",
              "    <tr>\n",
              "      <th>2</th>\n",
              "      <td>Pemerintah Cabut IUP 4 Perusahaan Tambang di R...</td>\n",
              "      <td>nasional.kompas.com</td>\n",
              "      <td>Kompas.com - 10/06/2025, 21:03 WIB</td>\n",
              "      <td>21:03</td>\n",
              "      <td>Kompas.com</td>\n",
              "      <td>NaN</td>\n",
              "      <td>KOMPAS.com\\r\\n- Kementerian Energi dan Sumber ...</td>\n",
              "      <td>https://nasional.kompas.com/read/2025/06/10/21...</td>\n",
              "      <td>Inang Sh ,            \\r\\n\\r\\n                ...</td>\n",
              "    </tr>\n",
              "    <tr>\n",
              "      <th>3</th>\n",
              "      <td>Kemunculan Gangster Remaja di Bogor Selatan Di...</td>\n",
              "      <td>megapolitan.kompas.com</td>\n",
              "      <td>Kompas.com - 10/06/2025, 21:50 WIB</td>\n",
              "      <td>21:50</td>\n",
              "      <td>Kompas.com</td>\n",
              "      <td>NaN</td>\n",
              "      <td>BOGOR, KOMPAS.com –\\r\\nKriminolog Universitas ...</td>\n",
              "      <td>https://megapolitan.kompas.com/read/2025/06/10...</td>\n",
              "      <td>Hafizh Wahyu Darmawan,            \\r\\n\\r\\n    ...</td>\n",
              "    </tr>\n",
              "    <tr>\n",
              "      <th>4</th>\n",
              "      <td>Indonesia Dibantai Jepang 6-0, Suporter: Kami ...</td>\n",
              "      <td>megapolitan.kompas.com</td>\n",
              "      <td>Kompas.com - 10/06/2025, 20:44 WIB</td>\n",
              "      <td>20:44</td>\n",
              "      <td>Kompas.com</td>\n",
              "      <td>NaN</td>\n",
              "      <td>BEKASI, KOMPAS.com\\r\\n-\\r\\nRafi Haikal\\r\\n(21)...</td>\n",
              "      <td>https://megapolitan.kompas.com/read/2025/06/10...</td>\n",
              "      <td>Achmad Nasrudin Yahya,            \\r\\n\\r\\n    ...</td>\n",
              "    </tr>\n",
              "  </tbody>\n",
              "</table>\n",
              "</div>"
            ],
            "text/plain": [
              "                                               title                  source  \\\n",
              "0  Pengamat: Polisi yang Lecehkan Korban Pemerkos...     nasional.kompas.com   \n",
              "1  Hasil Kualifikasi Piala Dunia 2026: Jepang Vs ...         bola.kompas.com   \n",
              "2  Pemerintah Cabut IUP 4 Perusahaan Tambang di R...     nasional.kompas.com   \n",
              "3  Kemunculan Gangster Remaja di Bogor Selatan Di...  megapolitan.kompas.com   \n",
              "4  Indonesia Dibantai Jepang 6-0, Suporter: Kami ...  megapolitan.kompas.com   \n",
              "\n",
              "                                 date   time    category  sub-category  \\\n",
              "0  Kompas.com - 10/06/2025, 21:23 WIB  21:23  Kompas.com           NaN   \n",
              "1  Kompas.com - 10/06/2025, 20:28 WIB  20:28  Kompas.com           NaN   \n",
              "2  Kompas.com - 10/06/2025, 21:03 WIB  21:03  Kompas.com           NaN   \n",
              "3  Kompas.com - 10/06/2025, 21:50 WIB  21:50  Kompas.com           NaN   \n",
              "4  Kompas.com - 10/06/2025, 20:44 WIB  20:44  Kompas.com           NaN   \n",
              "\n",
              "                                             content  \\\n",
              "0  JAKARTA, KOMPAS.com\\r\\n- Direktur Eksekutif Th...   \n",
              "1  KOMPAS.com\\r\\n-\\r\\nTimnas Indonesia\\r\\nmenelan...   \n",
              "2  KOMPAS.com\\r\\n- Kementerian Energi dan Sumber ...   \n",
              "3  BOGOR, KOMPAS.com –\\r\\nKriminolog Universitas ...   \n",
              "4  BEKASI, KOMPAS.com\\r\\n-\\r\\nRafi Haikal\\r\\n(21)...   \n",
              "\n",
              "                                                 url  \\\n",
              "0  https://nasional.kompas.com/read/2025/06/10/21...   \n",
              "1  https://bola.kompas.com/read/2025/06/10/202810...   \n",
              "2  https://nasional.kompas.com/read/2025/06/10/21...   \n",
              "3  https://megapolitan.kompas.com/read/2025/06/10...   \n",
              "4  https://megapolitan.kompas.com/read/2025/06/10...   \n",
              "\n",
              "                                              author  \n",
              "0  Singgih Wiryono,            \\r\\n\\r\\n          ...  \n",
              "1  Tim Kompas.com,            \\r\\n\\r\\n           ...  \n",
              "2  Inang Sh ,            \\r\\n\\r\\n                ...  \n",
              "3  Hafizh Wahyu Darmawan,            \\r\\n\\r\\n    ...  \n",
              "4  Achmad Nasrudin Yahya,            \\r\\n\\r\\n    ...  "
            ]
          },
          "execution_count": 78,
          "metadata": {},
          "output_type": "execute_result"
        }
      ],
      "source": [
        "df_kompas.head()"
      ]
    },
    {
      "cell_type": "code",
      "execution_count": 79,
      "metadata": {
        "colab": {
          "base_uri": "https://localhost:8080/",
          "height": 289
        },
        "id": "neU04bfl0qTA",
        "outputId": "23a83513-799f-455f-f873-1d8e671e4def"
      },
      "outputs": [
        {
          "data": {
            "text/html": [
              "<div>\n",
              "<style scoped>\n",
              "    .dataframe tbody tr th:only-of-type {\n",
              "        vertical-align: middle;\n",
              "    }\n",
              "\n",
              "    .dataframe tbody tr th {\n",
              "        vertical-align: top;\n",
              "    }\n",
              "\n",
              "    .dataframe thead th {\n",
              "        text-align: right;\n",
              "    }\n",
              "</style>\n",
              "<table border=\"1\" class=\"dataframe\">\n",
              "  <thead>\n",
              "    <tr style=\"text-align: right;\">\n",
              "      <th></th>\n",
              "      <th>title</th>\n",
              "      <th>category</th>\n",
              "      <th>content</th>\n",
              "      <th>url</th>\n",
              "    </tr>\n",
              "  </thead>\n",
              "  <tbody>\n",
              "    <tr>\n",
              "      <th>0</th>\n",
              "      <td>Pengamat: Polisi yang Lecehkan Korban Pemerkos...</td>\n",
              "      <td>Kompas.com</td>\n",
              "      <td>JAKARTA, KOMPAS.com\\r\\n- Direktur Eksekutif Th...</td>\n",
              "      <td>https://nasional.kompas.com/read/2025/06/10/21...</td>\n",
              "    </tr>\n",
              "    <tr>\n",
              "      <th>1</th>\n",
              "      <td>Hasil Kualifikasi Piala Dunia 2026: Jepang Vs ...</td>\n",
              "      <td>Kompas.com</td>\n",
              "      <td>KOMPAS.com\\r\\n-\\r\\nTimnas Indonesia\\r\\nmenelan...</td>\n",
              "      <td>https://bola.kompas.com/read/2025/06/10/202810...</td>\n",
              "    </tr>\n",
              "    <tr>\n",
              "      <th>2</th>\n",
              "      <td>Pemerintah Cabut IUP 4 Perusahaan Tambang di R...</td>\n",
              "      <td>Kompas.com</td>\n",
              "      <td>KOMPAS.com\\r\\n- Kementerian Energi dan Sumber ...</td>\n",
              "      <td>https://nasional.kompas.com/read/2025/06/10/21...</td>\n",
              "    </tr>\n",
              "    <tr>\n",
              "      <th>3</th>\n",
              "      <td>Kemunculan Gangster Remaja di Bogor Selatan Di...</td>\n",
              "      <td>Kompas.com</td>\n",
              "      <td>BOGOR, KOMPAS.com –\\r\\nKriminolog Universitas ...</td>\n",
              "      <td>https://megapolitan.kompas.com/read/2025/06/10...</td>\n",
              "    </tr>\n",
              "    <tr>\n",
              "      <th>4</th>\n",
              "      <td>Indonesia Dibantai Jepang 6-0, Suporter: Kami ...</td>\n",
              "      <td>Kompas.com</td>\n",
              "      <td>BEKASI, KOMPAS.com\\r\\n-\\r\\nRafi Haikal\\r\\n(21)...</td>\n",
              "      <td>https://megapolitan.kompas.com/read/2025/06/10...</td>\n",
              "    </tr>\n",
              "  </tbody>\n",
              "</table>\n",
              "</div>"
            ],
            "text/plain": [
              "                                               title    category  \\\n",
              "0  Pengamat: Polisi yang Lecehkan Korban Pemerkos...  Kompas.com   \n",
              "1  Hasil Kualifikasi Piala Dunia 2026: Jepang Vs ...  Kompas.com   \n",
              "2  Pemerintah Cabut IUP 4 Perusahaan Tambang di R...  Kompas.com   \n",
              "3  Kemunculan Gangster Remaja di Bogor Selatan Di...  Kompas.com   \n",
              "4  Indonesia Dibantai Jepang 6-0, Suporter: Kami ...  Kompas.com   \n",
              "\n",
              "                                             content  \\\n",
              "0  JAKARTA, KOMPAS.com\\r\\n- Direktur Eksekutif Th...   \n",
              "1  KOMPAS.com\\r\\n-\\r\\nTimnas Indonesia\\r\\nmenelan...   \n",
              "2  KOMPAS.com\\r\\n- Kementerian Energi dan Sumber ...   \n",
              "3  BOGOR, KOMPAS.com –\\r\\nKriminolog Universitas ...   \n",
              "4  BEKASI, KOMPAS.com\\r\\n-\\r\\nRafi Haikal\\r\\n(21)...   \n",
              "\n",
              "                                                 url  \n",
              "0  https://nasional.kompas.com/read/2025/06/10/21...  \n",
              "1  https://bola.kompas.com/read/2025/06/10/202810...  \n",
              "2  https://nasional.kompas.com/read/2025/06/10/21...  \n",
              "3  https://megapolitan.kompas.com/read/2025/06/10...  \n",
              "4  https://megapolitan.kompas.com/read/2025/06/10...  "
            ]
          },
          "execution_count": 79,
          "metadata": {},
          "output_type": "execute_result"
        }
      ],
      "source": [
        "df_kompas = df_kompas[fitur2]\n",
        "df_kompas.head()"
      ]
    },
    {
      "cell_type": "code",
      "execution_count": 80,
      "metadata": {},
      "outputs": [
        {
          "name": "stdout",
          "output_type": "stream",
          "text": [
            "0\n"
          ]
        }
      ],
      "source": [
        "# periksa link duplikat\n",
        "print(df_kompas['url'].duplicated().sum())"
      ]
    },
    {
      "cell_type": "code",
      "execution_count": 81,
      "metadata": {},
      "outputs": [
        {
          "name": "stdout",
          "output_type": "stream",
          "text": [
            "0\n",
            "0\n",
            "0\n",
            "0\n"
          ]
        }
      ],
      "source": [
        "# cek nan di judul dan isi\n",
        "print(df_kompas['title'].isna().sum())\n",
        "print(df_kompas['content'].isna().sum())\n",
        "\n",
        "# cek judul dan isi yang kosong (isinya hanya spasi)\n",
        "print(df_kompas[df_kompas['title'].str.strip() == ''].shape[0])\n",
        "print(df_kompas[df_kompas['content'].str.strip() == ''].shape[0])"
      ]
    },
    {
      "cell_type": "code",
      "execution_count": 110,
      "metadata": {},
      "outputs": [
        {
          "name": "stdout",
          "output_type": "stream",
          "text": [
            "Index(['judul', 'isi', 'kategori', 'link'], dtype='object')\n"
          ]
        }
      ],
      "source": [
        "# ganti nama kolom\n",
        "# Judul --> judul\n",
        "# Isi --> isi\n",
        "# Kategori --> kategori\n",
        "# Link --> link\n",
        "df_kompas.columns = ['judul', 'isi', 'kategori', 'link']\n",
        "\n",
        "# print nama kolom\n",
        "print(df_kompas.columns)\n"
      ]
    },
    {
      "cell_type": "markdown",
      "metadata": {
        "id": "EJniHOGgzDnZ"
      },
      "source": [
        "## **Okezone**"
      ]
    },
    {
      "cell_type": "code",
      "execution_count": 82,
      "metadata": {
        "colab": {
          "base_uri": "https://localhost:8080/",
          "height": 357
        },
        "id": "K5RNGu_oy9l4",
        "outputId": "bf3f69a3-f145-45d4-c29c-4a85fe486fd7"
      },
      "outputs": [
        {
          "data": {
            "text/html": [
              "<div>\n",
              "<style scoped>\n",
              "    .dataframe tbody tr th:only-of-type {\n",
              "        vertical-align: middle;\n",
              "    }\n",
              "\n",
              "    .dataframe tbody tr th {\n",
              "        vertical-align: top;\n",
              "    }\n",
              "\n",
              "    .dataframe thead th {\n",
              "        text-align: right;\n",
              "    }\n",
              "</style>\n",
              "<table border=\"1\" class=\"dataframe\">\n",
              "  <thead>\n",
              "    <tr style=\"text-align: right;\">\n",
              "      <th></th>\n",
              "      <th>No.</th>\n",
              "      <th>Sumber</th>\n",
              "      <th>Judul</th>\n",
              "      <th>Isi</th>\n",
              "      <th>Tanggal</th>\n",
              "      <th>Kategori</th>\n",
              "      <th>Link</th>\n",
              "    </tr>\n",
              "  </thead>\n",
              "  <tbody>\n",
              "    <tr>\n",
              "      <th>0</th>\n",
              "      <td>1</td>\n",
              "      <td>Okezone</td>\n",
              "      <td>Perasaan Sabar/Reza Usai Gagal Juara Indonesia...</td>\n",
              "      <td>JAKARTA- Pasangan ganda putra Indonesia,Sabar ...</td>\n",
              "      <td>10 Juni 2025 |04:01 WIB</td>\n",
              "      <td>SPORTS</td>\n",
              "      <td>https://sports.okezone.com/read/2025/06/10/40/...</td>\n",
              "    </tr>\n",
              "    <tr>\n",
              "      <th>1</th>\n",
              "      <td>2</td>\n",
              "      <td>Okezone</td>\n",
              "      <td>Kim Seul Gi dan Yoon Doojoon Berebut Hak Asuh ...</td>\n",
              "      <td>SEOUL- Kim Seul Gi dan Yoon Doojoon akan berad...</td>\n",
              "      <td>10 Juni 2025 |07:30 WIB</td>\n",
              "      <td>CELEBRITY</td>\n",
              "      <td>https://celebrity.okezone.com/read/2025/06/10/...</td>\n",
              "    </tr>\n",
              "    <tr>\n",
              "      <th>2</th>\n",
              "      <td>3</td>\n",
              "      <td>Okezone</td>\n",
              "      <td>Deretan HP Murah yang Cocok buat Content Creat...</td>\n",
              "      <td>JAKARTA- Menjadi content creator pemula kini s...</td>\n",
              "      <td>05 Juni 2025 |10:05 WIB</td>\n",
              "      <td>TECHNO</td>\n",
              "      <td>https://techno.okezone.com/read/2025/06/05/57/...</td>\n",
              "    </tr>\n",
              "    <tr>\n",
              "      <th>3</th>\n",
              "      <td>4</td>\n",
              "      <td>Okezone</td>\n",
              "      <td>Ini Deretan Nama Besar Jajaran Direksi-Komisar...</td>\n",
              "      <td>JAKARTA- PT Gag Nikel menjadi satu-satunya per...</td>\n",
              "      <td>10 Juni 2025 |17:51 WIB</td>\n",
              "      <td>FINANCE</td>\n",
              "      <td>https://economy.okezone.com/read/2025/06/10/32...</td>\n",
              "    </tr>\n",
              "    <tr>\n",
              "      <th>4</th>\n",
              "      <td>5</td>\n",
              "      <td>Okezone</td>\n",
              "      <td>Hasil Timnas Indonesia vs Jepang: Samurai Biru...</td>\n",
              "      <td>OSAKA –HasilTimnas Indonesia vs Timnas Jepangd...</td>\n",
              "      <td>10 Juni 2025 |18:58 WIB</td>\n",
              "      <td>BOLA</td>\n",
              "      <td>https://bola.okezone.com/read/2025/06/10/51/31...</td>\n",
              "    </tr>\n",
              "  </tbody>\n",
              "</table>\n",
              "</div>"
            ],
            "text/plain": [
              "   No.   Sumber                                              Judul  \\\n",
              "0    1  Okezone  Perasaan Sabar/Reza Usai Gagal Juara Indonesia...   \n",
              "1    2  Okezone  Kim Seul Gi dan Yoon Doojoon Berebut Hak Asuh ...   \n",
              "2    3  Okezone  Deretan HP Murah yang Cocok buat Content Creat...   \n",
              "3    4  Okezone  Ini Deretan Nama Besar Jajaran Direksi-Komisar...   \n",
              "4    5  Okezone  Hasil Timnas Indonesia vs Jepang: Samurai Biru...   \n",
              "\n",
              "                                                 Isi                  Tanggal  \\\n",
              "0  JAKARTA- Pasangan ganda putra Indonesia,Sabar ...  10 Juni 2025 |04:01 WIB   \n",
              "1  SEOUL- Kim Seul Gi dan Yoon Doojoon akan berad...  10 Juni 2025 |07:30 WIB   \n",
              "2  JAKARTA- Menjadi content creator pemula kini s...  05 Juni 2025 |10:05 WIB   \n",
              "3  JAKARTA- PT Gag Nikel menjadi satu-satunya per...  10 Juni 2025 |17:51 WIB   \n",
              "4  OSAKA –HasilTimnas Indonesia vs Timnas Jepangd...  10 Juni 2025 |18:58 WIB   \n",
              "\n",
              "    Kategori                                               Link  \n",
              "0     SPORTS  https://sports.okezone.com/read/2025/06/10/40/...  \n",
              "1  CELEBRITY  https://celebrity.okezone.com/read/2025/06/10/...  \n",
              "2     TECHNO  https://techno.okezone.com/read/2025/06/05/57/...  \n",
              "3    FINANCE  https://economy.okezone.com/read/2025/06/10/32...  \n",
              "4       BOLA  https://bola.okezone.com/read/2025/06/10/51/31...  "
            ]
          },
          "execution_count": 82,
          "metadata": {},
          "output_type": "execute_result"
        }
      ],
      "source": [
        "df_okezone.head()"
      ]
    },
    {
      "cell_type": "code",
      "execution_count": 83,
      "metadata": {
        "colab": {
          "base_uri": "https://localhost:8080/",
          "height": 289
        },
        "id": "kDnyyTVV00Cp",
        "outputId": "83d35646-9199-42bb-a475-ab4cd04ab84f"
      },
      "outputs": [
        {
          "data": {
            "text/html": [
              "<div>\n",
              "<style scoped>\n",
              "    .dataframe tbody tr th:only-of-type {\n",
              "        vertical-align: middle;\n",
              "    }\n",
              "\n",
              "    .dataframe tbody tr th {\n",
              "        vertical-align: top;\n",
              "    }\n",
              "\n",
              "    .dataframe thead th {\n",
              "        text-align: right;\n",
              "    }\n",
              "</style>\n",
              "<table border=\"1\" class=\"dataframe\">\n",
              "  <thead>\n",
              "    <tr style=\"text-align: right;\">\n",
              "      <th></th>\n",
              "      <th>Judul</th>\n",
              "      <th>Isi</th>\n",
              "      <th>Kategori</th>\n",
              "      <th>Link</th>\n",
              "    </tr>\n",
              "  </thead>\n",
              "  <tbody>\n",
              "    <tr>\n",
              "      <th>0</th>\n",
              "      <td>Perasaan Sabar/Reza Usai Gagal Juara Indonesia...</td>\n",
              "      <td>JAKARTA- Pasangan ganda putra Indonesia,Sabar ...</td>\n",
              "      <td>SPORTS</td>\n",
              "      <td>https://sports.okezone.com/read/2025/06/10/40/...</td>\n",
              "    </tr>\n",
              "    <tr>\n",
              "      <th>1</th>\n",
              "      <td>Kim Seul Gi dan Yoon Doojoon Berebut Hak Asuh ...</td>\n",
              "      <td>SEOUL- Kim Seul Gi dan Yoon Doojoon akan berad...</td>\n",
              "      <td>CELEBRITY</td>\n",
              "      <td>https://celebrity.okezone.com/read/2025/06/10/...</td>\n",
              "    </tr>\n",
              "    <tr>\n",
              "      <th>2</th>\n",
              "      <td>Deretan HP Murah yang Cocok buat Content Creat...</td>\n",
              "      <td>JAKARTA- Menjadi content creator pemula kini s...</td>\n",
              "      <td>TECHNO</td>\n",
              "      <td>https://techno.okezone.com/read/2025/06/05/57/...</td>\n",
              "    </tr>\n",
              "    <tr>\n",
              "      <th>3</th>\n",
              "      <td>Ini Deretan Nama Besar Jajaran Direksi-Komisar...</td>\n",
              "      <td>JAKARTA- PT Gag Nikel menjadi satu-satunya per...</td>\n",
              "      <td>FINANCE</td>\n",
              "      <td>https://economy.okezone.com/read/2025/06/10/32...</td>\n",
              "    </tr>\n",
              "    <tr>\n",
              "      <th>4</th>\n",
              "      <td>Hasil Timnas Indonesia vs Jepang: Samurai Biru...</td>\n",
              "      <td>OSAKA –HasilTimnas Indonesia vs Timnas Jepangd...</td>\n",
              "      <td>BOLA</td>\n",
              "      <td>https://bola.okezone.com/read/2025/06/10/51/31...</td>\n",
              "    </tr>\n",
              "  </tbody>\n",
              "</table>\n",
              "</div>"
            ],
            "text/plain": [
              "                                               Judul  \\\n",
              "0  Perasaan Sabar/Reza Usai Gagal Juara Indonesia...   \n",
              "1  Kim Seul Gi dan Yoon Doojoon Berebut Hak Asuh ...   \n",
              "2  Deretan HP Murah yang Cocok buat Content Creat...   \n",
              "3  Ini Deretan Nama Besar Jajaran Direksi-Komisar...   \n",
              "4  Hasil Timnas Indonesia vs Jepang: Samurai Biru...   \n",
              "\n",
              "                                                 Isi   Kategori  \\\n",
              "0  JAKARTA- Pasangan ganda putra Indonesia,Sabar ...     SPORTS   \n",
              "1  SEOUL- Kim Seul Gi dan Yoon Doojoon akan berad...  CELEBRITY   \n",
              "2  JAKARTA- Menjadi content creator pemula kini s...     TECHNO   \n",
              "3  JAKARTA- PT Gag Nikel menjadi satu-satunya per...    FINANCE   \n",
              "4  OSAKA –HasilTimnas Indonesia vs Timnas Jepangd...       BOLA   \n",
              "\n",
              "                                                Link  \n",
              "0  https://sports.okezone.com/read/2025/06/10/40/...  \n",
              "1  https://celebrity.okezone.com/read/2025/06/10/...  \n",
              "2  https://techno.okezone.com/read/2025/06/05/57/...  \n",
              "3  https://economy.okezone.com/read/2025/06/10/32...  \n",
              "4  https://bola.okezone.com/read/2025/06/10/51/31...  "
            ]
          },
          "execution_count": 83,
          "metadata": {},
          "output_type": "execute_result"
        }
      ],
      "source": [
        "df_okezone = df_okezone[fitur]\n",
        "df_okezone.head()"
      ]
    },
    {
      "cell_type": "code",
      "execution_count": 84,
      "metadata": {},
      "outputs": [
        {
          "name": "stdout",
          "output_type": "stream",
          "text": [
            "2\n"
          ]
        }
      ],
      "source": [
        "# periksa link duplikat\n",
        "print(df_okezone['Link'].duplicated().sum())\n",
        "\n",
        "# remove duplikat\n",
        "df_okezone = df_okezone.drop_duplicates(subset='Link')"
      ]
    },
    {
      "cell_type": "code",
      "execution_count": 85,
      "metadata": {},
      "outputs": [
        {
          "name": "stdout",
          "output_type": "stream",
          "text": [
            "0\n"
          ]
        }
      ],
      "source": [
        "print(df_okezone['Link'].duplicated().sum())"
      ]
    },
    {
      "cell_type": "code",
      "execution_count": 86,
      "metadata": {},
      "outputs": [
        {
          "name": "stdout",
          "output_type": "stream",
          "text": [
            "0\n",
            "0\n",
            "0\n",
            "0\n"
          ]
        }
      ],
      "source": [
        "# cek nan di judul dan isi\n",
        "print(df_okezone['Judul'].isna().sum())\n",
        "print(df_okezone['Isi'].isna().sum())\n",
        "\n",
        "# cek judul dan isi yang kosong (isinya hanya spasi)\n",
        "print(df_okezone[df_okezone['Judul'].str.strip() == ''].shape[0])\n",
        "print(df_okezone[df_okezone['Isi'].str.strip() == ''].shape[0])"
      ]
    },
    {
      "cell_type": "code",
      "execution_count": 111,
      "metadata": {},
      "outputs": [
        {
          "name": "stdout",
          "output_type": "stream",
          "text": [
            "Index(['judul', 'isi', 'kategori', 'link'], dtype='object')\n"
          ]
        }
      ],
      "source": [
        "# ganti nama kolom\n",
        "# Judul --> judul\n",
        "# Isi --> isi\n",
        "# Kategori --> kategori\n",
        "# Link --> link\n",
        "df_okezone.columns = ['judul', 'isi', 'kategori', 'link']\n",
        "\n",
        "# print nama kolom\n",
        "print(df_okezone.columns)"
      ]
    },
    {
      "cell_type": "markdown",
      "metadata": {
        "id": "QiWAOGA8zIMJ"
      },
      "source": [
        "## **republika**"
      ]
    },
    {
      "cell_type": "code",
      "execution_count": 87,
      "metadata": {
        "colab": {
          "base_uri": "https://localhost:8080/",
          "height": 530
        },
        "id": "yxd5WoJGzOAs",
        "outputId": "e8f48350-bac5-4830-d653-3e07b9c13849"
      },
      "outputs": [
        {
          "data": {
            "text/html": [
              "<div>\n",
              "<style scoped>\n",
              "    .dataframe tbody tr th:only-of-type {\n",
              "        vertical-align: middle;\n",
              "    }\n",
              "\n",
              "    .dataframe tbody tr th {\n",
              "        vertical-align: top;\n",
              "    }\n",
              "\n",
              "    .dataframe thead th {\n",
              "        text-align: right;\n",
              "    }\n",
              "</style>\n",
              "<table border=\"1\" class=\"dataframe\">\n",
              "  <thead>\n",
              "    <tr style=\"text-align: right;\">\n",
              "      <th></th>\n",
              "      <th>title</th>\n",
              "      <th>source</th>\n",
              "      <th>date</th>\n",
              "      <th>time</th>\n",
              "      <th>category</th>\n",
              "      <th>sub-category</th>\n",
              "      <th>content</th>\n",
              "      <th>url</th>\n",
              "      <th>author</th>\n",
              "    </tr>\n",
              "  </thead>\n",
              "  <tbody>\n",
              "    <tr>\n",
              "      <th>0</th>\n",
              "      <td>Kejagung Buka Peluang Usut Potensi Pelanggaran...</td>\n",
              "      <td>news.republika.co.id</td>\n",
              "      <td>10 Jun 2025</td>\n",
              "      <td>21:55</td>\n",
              "      <td>Nasional News</td>\n",
              "      <td>NaN</td>\n",
              "      <td>REPUBLIKA.CO.ID, JAKARTA -- Kejaksaan Agung (K...</td>\n",
              "      <td>https://news.republika.co.id/berita/sxnasi409/...</td>\n",
              "      <td>Andri Saubani</td>\n",
              "    </tr>\n",
              "    <tr>\n",
              "      <th>1</th>\n",
              "      <td>Honda Luncurkan HR-V Hybrid, Harganya di Bawah...</td>\n",
              "      <td>ekonomi.republika.co.id</td>\n",
              "      <td>10 Jun 2025</td>\n",
              "      <td>22:39</td>\n",
              "      <td>Otomotif</td>\n",
              "      <td>NaN</td>\n",
              "      <td>REPUBLIKA.CO.ID, JAKARTA -- PT. Honda Prospect...</td>\n",
              "      <td>https://ekonomi.republika.co.id/berita/sxnctt2...</td>\n",
              "      <td>Karta Raharja Ucu</td>\n",
              "    </tr>\n",
              "    <tr>\n",
              "      <th>2</th>\n",
              "      <td>Mayora Bagi Dividen Rp 55 per Saham</td>\n",
              "      <td>ekonomi.republika.co.id</td>\n",
              "      <td>10 Jun 2025</td>\n",
              "      <td>22:35</td>\n",
              "      <td>Bisnis</td>\n",
              "      <td>NaN</td>\n",
              "      <td>REPUBLIKA.CO.ID, JAKARTA -- PT\\r\\nMayora\\r\\nIn...</td>\n",
              "      <td>https://ekonomi.republika.co.id/berita/sxn0ot3...</td>\n",
              "      <td>Friska Yolandha</td>\n",
              "    </tr>\n",
              "    <tr>\n",
              "      <th>3</th>\n",
              "      <td>Kali Lamong Meluap, 10 Desa di Gresik Tergenan...</td>\n",
              "      <td>visual.republika.co.id</td>\n",
              "      <td>10 Jun 2025</td>\n",
              "      <td>22:00</td>\n",
              "      <td>Visual</td>\n",
              "      <td>NaN</td>\n",
              "      <td>REPUBLIKA.CO.ID, GRESIK -- Pengendara sepeda m...</td>\n",
              "      <td>https://visual.republika.co.id/berita/sxn9fb37...</td>\n",
              "      <td>Tidak Ditemukan</td>\n",
              "    </tr>\n",
              "    <tr>\n",
              "      <th>4</th>\n",
              "      <td>Freeport Ungkap Permintaan Tembaga Bakal Naik ...</td>\n",
              "      <td>esgnow.republika.co.id</td>\n",
              "      <td>10 Jun 2025</td>\n",
              "      <td>22:32</td>\n",
              "      <td>Lingkungan Esgnow</td>\n",
              "      <td>NaN</td>\n",
              "      <td>REPUBLIKA.CO.ID, JAKARTA -- Direktur Utama PT\\...</td>\n",
              "      <td>https://esgnow.republika.co.id/berita/sxnchx49...</td>\n",
              "      <td>Ahmad Fikri Noor</td>\n",
              "    </tr>\n",
              "  </tbody>\n",
              "</table>\n",
              "</div>"
            ],
            "text/plain": [
              "                                               title                   source  \\\n",
              "0  Kejagung Buka Peluang Usut Potensi Pelanggaran...     news.republika.co.id   \n",
              "1  Honda Luncurkan HR-V Hybrid, Harganya di Bawah...  ekonomi.republika.co.id   \n",
              "2                Mayora Bagi Dividen Rp 55 per Saham  ekonomi.republika.co.id   \n",
              "3  Kali Lamong Meluap, 10 Desa di Gresik Tergenan...   visual.republika.co.id   \n",
              "4  Freeport Ungkap Permintaan Tembaga Bakal Naik ...   esgnow.republika.co.id   \n",
              "\n",
              "          date   time           category  sub-category  \\\n",
              "0  10 Jun 2025  21:55      Nasional News           NaN   \n",
              "1  10 Jun 2025  22:39           Otomotif           NaN   \n",
              "2  10 Jun 2025  22:35             Bisnis           NaN   \n",
              "3  10 Jun 2025  22:00             Visual           NaN   \n",
              "4  10 Jun 2025  22:32  Lingkungan Esgnow           NaN   \n",
              "\n",
              "                                             content  \\\n",
              "0  REPUBLIKA.CO.ID, JAKARTA -- Kejaksaan Agung (K...   \n",
              "1  REPUBLIKA.CO.ID, JAKARTA -- PT. Honda Prospect...   \n",
              "2  REPUBLIKA.CO.ID, JAKARTA -- PT\\r\\nMayora\\r\\nIn...   \n",
              "3  REPUBLIKA.CO.ID, GRESIK -- Pengendara sepeda m...   \n",
              "4  REPUBLIKA.CO.ID, JAKARTA -- Direktur Utama PT\\...   \n",
              "\n",
              "                                                 url             author  \n",
              "0  https://news.republika.co.id/berita/sxnasi409/...      Andri Saubani  \n",
              "1  https://ekonomi.republika.co.id/berita/sxnctt2...  Karta Raharja Ucu  \n",
              "2  https://ekonomi.republika.co.id/berita/sxn0ot3...    Friska Yolandha  \n",
              "3  https://visual.republika.co.id/berita/sxn9fb37...    Tidak Ditemukan  \n",
              "4  https://esgnow.republika.co.id/berita/sxnchx49...   Ahmad Fikri Noor  "
            ]
          },
          "execution_count": 87,
          "metadata": {},
          "output_type": "execute_result"
        }
      ],
      "source": [
        "df_republika.head()"
      ]
    },
    {
      "cell_type": "code",
      "execution_count": 88,
      "metadata": {
        "colab": {
          "base_uri": "https://localhost:8080/",
          "height": 289
        },
        "id": "2PR_SCr01GGy",
        "outputId": "51bdf269-7661-4588-d009-aae4b2698348"
      },
      "outputs": [
        {
          "data": {
            "text/html": [
              "<div>\n",
              "<style scoped>\n",
              "    .dataframe tbody tr th:only-of-type {\n",
              "        vertical-align: middle;\n",
              "    }\n",
              "\n",
              "    .dataframe tbody tr th {\n",
              "        vertical-align: top;\n",
              "    }\n",
              "\n",
              "    .dataframe thead th {\n",
              "        text-align: right;\n",
              "    }\n",
              "</style>\n",
              "<table border=\"1\" class=\"dataframe\">\n",
              "  <thead>\n",
              "    <tr style=\"text-align: right;\">\n",
              "      <th></th>\n",
              "      <th>title</th>\n",
              "      <th>category</th>\n",
              "      <th>content</th>\n",
              "      <th>url</th>\n",
              "    </tr>\n",
              "  </thead>\n",
              "  <tbody>\n",
              "    <tr>\n",
              "      <th>0</th>\n",
              "      <td>Kejagung Buka Peluang Usut Potensi Pelanggaran...</td>\n",
              "      <td>Nasional News</td>\n",
              "      <td>REPUBLIKA.CO.ID, JAKARTA -- Kejaksaan Agung (K...</td>\n",
              "      <td>https://news.republika.co.id/berita/sxnasi409/...</td>\n",
              "    </tr>\n",
              "    <tr>\n",
              "      <th>1</th>\n",
              "      <td>Honda Luncurkan HR-V Hybrid, Harganya di Bawah...</td>\n",
              "      <td>Otomotif</td>\n",
              "      <td>REPUBLIKA.CO.ID, JAKARTA -- PT. Honda Prospect...</td>\n",
              "      <td>https://ekonomi.republika.co.id/berita/sxnctt2...</td>\n",
              "    </tr>\n",
              "    <tr>\n",
              "      <th>2</th>\n",
              "      <td>Mayora Bagi Dividen Rp 55 per Saham</td>\n",
              "      <td>Bisnis</td>\n",
              "      <td>REPUBLIKA.CO.ID, JAKARTA -- PT\\r\\nMayora\\r\\nIn...</td>\n",
              "      <td>https://ekonomi.republika.co.id/berita/sxn0ot3...</td>\n",
              "    </tr>\n",
              "    <tr>\n",
              "      <th>3</th>\n",
              "      <td>Kali Lamong Meluap, 10 Desa di Gresik Tergenan...</td>\n",
              "      <td>Visual</td>\n",
              "      <td>REPUBLIKA.CO.ID, GRESIK -- Pengendara sepeda m...</td>\n",
              "      <td>https://visual.republika.co.id/berita/sxn9fb37...</td>\n",
              "    </tr>\n",
              "    <tr>\n",
              "      <th>4</th>\n",
              "      <td>Freeport Ungkap Permintaan Tembaga Bakal Naik ...</td>\n",
              "      <td>Lingkungan Esgnow</td>\n",
              "      <td>REPUBLIKA.CO.ID, JAKARTA -- Direktur Utama PT\\...</td>\n",
              "      <td>https://esgnow.republika.co.id/berita/sxnchx49...</td>\n",
              "    </tr>\n",
              "  </tbody>\n",
              "</table>\n",
              "</div>"
            ],
            "text/plain": [
              "                                               title           category  \\\n",
              "0  Kejagung Buka Peluang Usut Potensi Pelanggaran...      Nasional News   \n",
              "1  Honda Luncurkan HR-V Hybrid, Harganya di Bawah...           Otomotif   \n",
              "2                Mayora Bagi Dividen Rp 55 per Saham             Bisnis   \n",
              "3  Kali Lamong Meluap, 10 Desa di Gresik Tergenan...             Visual   \n",
              "4  Freeport Ungkap Permintaan Tembaga Bakal Naik ...  Lingkungan Esgnow   \n",
              "\n",
              "                                             content  \\\n",
              "0  REPUBLIKA.CO.ID, JAKARTA -- Kejaksaan Agung (K...   \n",
              "1  REPUBLIKA.CO.ID, JAKARTA -- PT. Honda Prospect...   \n",
              "2  REPUBLIKA.CO.ID, JAKARTA -- PT\\r\\nMayora\\r\\nIn...   \n",
              "3  REPUBLIKA.CO.ID, GRESIK -- Pengendara sepeda m...   \n",
              "4  REPUBLIKA.CO.ID, JAKARTA -- Direktur Utama PT\\...   \n",
              "\n",
              "                                                 url  \n",
              "0  https://news.republika.co.id/berita/sxnasi409/...  \n",
              "1  https://ekonomi.republika.co.id/berita/sxnctt2...  \n",
              "2  https://ekonomi.republika.co.id/berita/sxn0ot3...  \n",
              "3  https://visual.republika.co.id/berita/sxn9fb37...  \n",
              "4  https://esgnow.republika.co.id/berita/sxnchx49...  "
            ]
          },
          "execution_count": 88,
          "metadata": {},
          "output_type": "execute_result"
        }
      ],
      "source": [
        "df_republika = df_republika[fitur2]\n",
        "df_republika.head()"
      ]
    },
    {
      "cell_type": "code",
      "execution_count": 89,
      "metadata": {},
      "outputs": [
        {
          "name": "stdout",
          "output_type": "stream",
          "text": [
            "0\n"
          ]
        }
      ],
      "source": [
        "# periksa link duplikat\n",
        "print(df_republika['url'].duplicated().sum())"
      ]
    },
    {
      "cell_type": "code",
      "execution_count": 90,
      "metadata": {},
      "outputs": [
        {
          "name": "stdout",
          "output_type": "stream",
          "text": [
            "0\n",
            "0\n",
            "0\n",
            "0\n"
          ]
        }
      ],
      "source": [
        "# cek nan di judul dan isi\n",
        "print(df_republika['title'].isna().sum())\n",
        "print(df_republika['content'].isna().sum())\n",
        "\n",
        "# cek judul dan isi yang kosong (isinya hanya spasi)\n",
        "print(df_republika[df_republika['title'].str.strip() == ''].shape[0])\n",
        "print(df_republika[df_republika['content'].str.strip() == ''].shape[0])"
      ]
    },
    {
      "cell_type": "code",
      "execution_count": 112,
      "metadata": {},
      "outputs": [
        {
          "name": "stdout",
          "output_type": "stream",
          "text": [
            "Index(['judul', 'isi', 'kategori', 'link'], dtype='object')\n"
          ]
        }
      ],
      "source": [
        "# ganti nama kolom\n",
        "# Judul --> judul\n",
        "# Isi --> isi\n",
        "# Kategori --> kategori\n",
        "# Link --> link\n",
        "df_republika.columns = ['judul', 'isi', 'kategori', 'link']\n",
        "\n",
        "# print nama kolom\n",
        "print(df_republika.columns)"
      ]
    },
    {
      "cell_type": "markdown",
      "metadata": {
        "id": "yKN4nSsZzJQZ"
      },
      "source": [
        "## **sindonews**"
      ]
    },
    {
      "cell_type": "code",
      "execution_count": 91,
      "metadata": {
        "colab": {
          "base_uri": "https://localhost:8080/",
          "height": 374
        },
        "id": "vk3x1sUSzRDc",
        "outputId": "26b902b9-25bd-445b-de17-28d1e94467f4"
      },
      "outputs": [
        {
          "data": {
            "text/html": [
              "<div>\n",
              "<style scoped>\n",
              "    .dataframe tbody tr th:only-of-type {\n",
              "        vertical-align: middle;\n",
              "    }\n",
              "\n",
              "    .dataframe tbody tr th {\n",
              "        vertical-align: top;\n",
              "    }\n",
              "\n",
              "    .dataframe thead th {\n",
              "        text-align: right;\n",
              "    }\n",
              "</style>\n",
              "<table border=\"1\" class=\"dataframe\">\n",
              "  <thead>\n",
              "    <tr style=\"text-align: right;\">\n",
              "      <th></th>\n",
              "      <th>No</th>\n",
              "      <th>Sumber</th>\n",
              "      <th>Judul</th>\n",
              "      <th>Isi</th>\n",
              "      <th>Tanggal</th>\n",
              "      <th>Kategori</th>\n",
              "      <th>Link</th>\n",
              "    </tr>\n",
              "  </thead>\n",
              "  <tbody>\n",
              "    <tr>\n",
              "      <th>0</th>\n",
              "      <td>1</td>\n",
              "      <td>Sindonews</td>\n",
              "      <td>10 Negara dengan Jumlah Perempuan Lebih Banyak...</td>\n",
              "      <td>JAKARTA  - Setidaknya ada 10  negara  dengan j...</td>\n",
              "      <td>Selasa, 10 Juni 2025 - 07:00 WIB</td>\n",
              "      <td>Travel &amp; Kuliner</td>\n",
              "      <td>https://lifestyle.sindonews.com/read/1578021/1...</td>\n",
              "    </tr>\n",
              "    <tr>\n",
              "      <th>1</th>\n",
              "      <td>2</td>\n",
              "      <td>Sindonews</td>\n",
              "      <td>Adab-adab Islam dalam Menjaga Lingkungan Alam</td>\n",
              "      <td>Dalam Islam, ada beberapa  adab terhadap lingk...</td>\n",
              "      <td>Selasa, 10 Juni 2025 - 16:31 WIB</td>\n",
              "      <td>Hikmah</td>\n",
              "      <td>https://kalam.sindonews.com/read/1578249/70/ad...</td>\n",
              "    </tr>\n",
              "    <tr>\n",
              "      <th>2</th>\n",
              "      <td>3</td>\n",
              "      <td>Sindonews</td>\n",
              "      <td>Gempa Bumi M5,0 Guncang Kabupaten Pangandaran</td>\n",
              "      <td>JAKARTA - Badan Meteorologi, Klimatologi, dan ...</td>\n",
              "      <td>Selasa, 10 Juni 2025 - 00:21 WIB</td>\n",
              "      <td>Jawa Barat</td>\n",
              "      <td>https://daerah.sindonews.com/read/1578019/701/...</td>\n",
              "    </tr>\n",
              "    <tr>\n",
              "      <th>3</th>\n",
              "      <td>4</td>\n",
              "      <td>Sindonews</td>\n",
              "      <td>Pendidikan Vidi Aldiano, Ternyata Lulus Cum La...</td>\n",
              "      <td>JAKARTA - Penyanyi lagu Nuansa Bening Vidi Ald...</td>\n",
              "      <td>Selasa, 10 Juni 2025 - 13:40 WIB</td>\n",
              "      <td>Kampus</td>\n",
              "      <td>https://edukasi.sindonews.com/read/1578207/211...</td>\n",
              "    </tr>\n",
              "    <tr>\n",
              "      <th>4</th>\n",
              "      <td>5</td>\n",
              "      <td>Sindonews</td>\n",
              "      <td>Saat Ukraina Fokus Serang Moskow, Rusia Justru...</td>\n",
              "      <td>MOSKOW - Menurut Moskow, pasukan Rusia mencapa...</td>\n",
              "      <td>Senin, 09 Juni 2025 - 16:28 WIB</td>\n",
              "      <td>Eropa</td>\n",
              "      <td>https://international.sindonews.com/read/15778...</td>\n",
              "    </tr>\n",
              "  </tbody>\n",
              "</table>\n",
              "</div>"
            ],
            "text/plain": [
              "   No     Sumber                                              Judul  \\\n",
              "0   1  Sindonews  10 Negara dengan Jumlah Perempuan Lebih Banyak...   \n",
              "1   2  Sindonews      Adab-adab Islam dalam Menjaga Lingkungan Alam   \n",
              "2   3  Sindonews      Gempa Bumi M5,0 Guncang Kabupaten Pangandaran   \n",
              "3   4  Sindonews  Pendidikan Vidi Aldiano, Ternyata Lulus Cum La...   \n",
              "4   5  Sindonews  Saat Ukraina Fokus Serang Moskow, Rusia Justru...   \n",
              "\n",
              "                                                 Isi  \\\n",
              "0  JAKARTA  - Setidaknya ada 10  negara  dengan j...   \n",
              "1  Dalam Islam, ada beberapa  adab terhadap lingk...   \n",
              "2  JAKARTA - Badan Meteorologi, Klimatologi, dan ...   \n",
              "3  JAKARTA - Penyanyi lagu Nuansa Bening Vidi Ald...   \n",
              "4  MOSKOW - Menurut Moskow, pasukan Rusia mencapa...   \n",
              "\n",
              "                            Tanggal          Kategori  \\\n",
              "0  Selasa, 10 Juni 2025 - 07:00 WIB  Travel & Kuliner   \n",
              "1  Selasa, 10 Juni 2025 - 16:31 WIB            Hikmah   \n",
              "2  Selasa, 10 Juni 2025 - 00:21 WIB        Jawa Barat   \n",
              "3  Selasa, 10 Juni 2025 - 13:40 WIB            Kampus   \n",
              "4   Senin, 09 Juni 2025 - 16:28 WIB             Eropa   \n",
              "\n",
              "                                                Link  \n",
              "0  https://lifestyle.sindonews.com/read/1578021/1...  \n",
              "1  https://kalam.sindonews.com/read/1578249/70/ad...  \n",
              "2  https://daerah.sindonews.com/read/1578019/701/...  \n",
              "3  https://edukasi.sindonews.com/read/1578207/211...  \n",
              "4  https://international.sindonews.com/read/15778...  "
            ]
          },
          "execution_count": 91,
          "metadata": {},
          "output_type": "execute_result"
        }
      ],
      "source": [
        "df_sindonews.head()"
      ]
    },
    {
      "cell_type": "code",
      "execution_count": 92,
      "metadata": {
        "colab": {
          "base_uri": "https://localhost:8080/",
          "height": 289
        },
        "id": "QJlrv83E1PlA",
        "outputId": "6c251739-ae31-4997-e0fa-5fbc685b86e4"
      },
      "outputs": [
        {
          "data": {
            "text/html": [
              "<div>\n",
              "<style scoped>\n",
              "    .dataframe tbody tr th:only-of-type {\n",
              "        vertical-align: middle;\n",
              "    }\n",
              "\n",
              "    .dataframe tbody tr th {\n",
              "        vertical-align: top;\n",
              "    }\n",
              "\n",
              "    .dataframe thead th {\n",
              "        text-align: right;\n",
              "    }\n",
              "</style>\n",
              "<table border=\"1\" class=\"dataframe\">\n",
              "  <thead>\n",
              "    <tr style=\"text-align: right;\">\n",
              "      <th></th>\n",
              "      <th>Judul</th>\n",
              "      <th>Isi</th>\n",
              "      <th>Kategori</th>\n",
              "      <th>Link</th>\n",
              "    </tr>\n",
              "  </thead>\n",
              "  <tbody>\n",
              "    <tr>\n",
              "      <th>0</th>\n",
              "      <td>10 Negara dengan Jumlah Perempuan Lebih Banyak...</td>\n",
              "      <td>JAKARTA  - Setidaknya ada 10  negara  dengan j...</td>\n",
              "      <td>Travel &amp; Kuliner</td>\n",
              "      <td>https://lifestyle.sindonews.com/read/1578021/1...</td>\n",
              "    </tr>\n",
              "    <tr>\n",
              "      <th>1</th>\n",
              "      <td>Adab-adab Islam dalam Menjaga Lingkungan Alam</td>\n",
              "      <td>Dalam Islam, ada beberapa  adab terhadap lingk...</td>\n",
              "      <td>Hikmah</td>\n",
              "      <td>https://kalam.sindonews.com/read/1578249/70/ad...</td>\n",
              "    </tr>\n",
              "    <tr>\n",
              "      <th>2</th>\n",
              "      <td>Gempa Bumi M5,0 Guncang Kabupaten Pangandaran</td>\n",
              "      <td>JAKARTA - Badan Meteorologi, Klimatologi, dan ...</td>\n",
              "      <td>Jawa Barat</td>\n",
              "      <td>https://daerah.sindonews.com/read/1578019/701/...</td>\n",
              "    </tr>\n",
              "    <tr>\n",
              "      <th>3</th>\n",
              "      <td>Pendidikan Vidi Aldiano, Ternyata Lulus Cum La...</td>\n",
              "      <td>JAKARTA - Penyanyi lagu Nuansa Bening Vidi Ald...</td>\n",
              "      <td>Kampus</td>\n",
              "      <td>https://edukasi.sindonews.com/read/1578207/211...</td>\n",
              "    </tr>\n",
              "    <tr>\n",
              "      <th>4</th>\n",
              "      <td>Saat Ukraina Fokus Serang Moskow, Rusia Justru...</td>\n",
              "      <td>MOSKOW - Menurut Moskow, pasukan Rusia mencapa...</td>\n",
              "      <td>Eropa</td>\n",
              "      <td>https://international.sindonews.com/read/15778...</td>\n",
              "    </tr>\n",
              "  </tbody>\n",
              "</table>\n",
              "</div>"
            ],
            "text/plain": [
              "                                               Judul  \\\n",
              "0  10 Negara dengan Jumlah Perempuan Lebih Banyak...   \n",
              "1      Adab-adab Islam dalam Menjaga Lingkungan Alam   \n",
              "2      Gempa Bumi M5,0 Guncang Kabupaten Pangandaran   \n",
              "3  Pendidikan Vidi Aldiano, Ternyata Lulus Cum La...   \n",
              "4  Saat Ukraina Fokus Serang Moskow, Rusia Justru...   \n",
              "\n",
              "                                                 Isi          Kategori  \\\n",
              "0  JAKARTA  - Setidaknya ada 10  negara  dengan j...  Travel & Kuliner   \n",
              "1  Dalam Islam, ada beberapa  adab terhadap lingk...            Hikmah   \n",
              "2  JAKARTA - Badan Meteorologi, Klimatologi, dan ...        Jawa Barat   \n",
              "3  JAKARTA - Penyanyi lagu Nuansa Bening Vidi Ald...            Kampus   \n",
              "4  MOSKOW - Menurut Moskow, pasukan Rusia mencapa...             Eropa   \n",
              "\n",
              "                                                Link  \n",
              "0  https://lifestyle.sindonews.com/read/1578021/1...  \n",
              "1  https://kalam.sindonews.com/read/1578249/70/ad...  \n",
              "2  https://daerah.sindonews.com/read/1578019/701/...  \n",
              "3  https://edukasi.sindonews.com/read/1578207/211...  \n",
              "4  https://international.sindonews.com/read/15778...  "
            ]
          },
          "execution_count": 92,
          "metadata": {},
          "output_type": "execute_result"
        }
      ],
      "source": [
        "df_sindonews = df_sindonews[fitur]\n",
        "df_sindonews.head()"
      ]
    },
    {
      "cell_type": "code",
      "execution_count": 93,
      "metadata": {},
      "outputs": [
        {
          "name": "stdout",
          "output_type": "stream",
          "text": [
            "1\n"
          ]
        }
      ],
      "source": [
        "# periksa link duplikat\n",
        "print(df_sindonews['Link'].duplicated().sum())"
      ]
    },
    {
      "cell_type": "code",
      "execution_count": 94,
      "metadata": {},
      "outputs": [
        {
          "name": "stdout",
          "output_type": "stream",
          "text": [
            "0\n"
          ]
        }
      ],
      "source": [
        "# drop duplikat\n",
        "df_sindonews = df_sindonews.drop_duplicates(subset='Link')\n",
        "print(df_sindonews['Link'].duplicated().sum())"
      ]
    },
    {
      "cell_type": "code",
      "execution_count": 95,
      "metadata": {},
      "outputs": [
        {
          "name": "stdout",
          "output_type": "stream",
          "text": [
            "0\n",
            "0\n",
            "0\n",
            "0\n"
          ]
        }
      ],
      "source": [
        "# cek nan di judul dan isi\n",
        "print(df_sindonews['Judul'].isna().sum())\n",
        "print(df_sindonews['Isi'].isna().sum())\n",
        "\n",
        "# cek judul dan isi yang kosong (isinya hanya spasi)\n",
        "print(df_sindonews[df_sindonews['Judul'].str.strip() == ''].shape[0])\n",
        "print(df_sindonews[df_sindonews['Isi'].str.strip() == ''].shape[0])"
      ]
    },
    {
      "cell_type": "code",
      "execution_count": 114,
      "metadata": {},
      "outputs": [
        {
          "name": "stdout",
          "output_type": "stream",
          "text": [
            "Index(['judul', 'isi', 'kategori', 'link'], dtype='object')\n"
          ]
        }
      ],
      "source": [
        "# ganti nama kolom\n",
        "# Judul --> judul\n",
        "# Isi --> isi\n",
        "# Kategori --> kategori\n",
        "# Link --> link\n",
        "df_sindonews.columns = ['judul', 'isi', 'kategori', 'link']\n",
        "\n",
        "# print nama kolom\n",
        "print(df_sindonews.columns)"
      ]
    },
    {
      "cell_type": "markdown",
      "metadata": {
        "id": "w-St-J1GzNLd"
      },
      "source": [
        "## **tempo**"
      ]
    },
    {
      "cell_type": "code",
      "execution_count": 96,
      "metadata": {
        "colab": {
          "base_uri": "https://localhost:8080/",
          "height": 374
        },
        "id": "bwyEUsg2zTBN",
        "outputId": "b31afec5-2ed4-4760-8484-880625ce3964"
      },
      "outputs": [
        {
          "data": {
            "text/html": [
              "<div>\n",
              "<style scoped>\n",
              "    .dataframe tbody tr th:only-of-type {\n",
              "        vertical-align: middle;\n",
              "    }\n",
              "\n",
              "    .dataframe tbody tr th {\n",
              "        vertical-align: top;\n",
              "    }\n",
              "\n",
              "    .dataframe thead th {\n",
              "        text-align: right;\n",
              "    }\n",
              "</style>\n",
              "<table border=\"1\" class=\"dataframe\">\n",
              "  <thead>\n",
              "    <tr style=\"text-align: right;\">\n",
              "      <th></th>\n",
              "      <th>Sumber</th>\n",
              "      <th>Judul</th>\n",
              "      <th>Isi</th>\n",
              "      <th>Tanggal</th>\n",
              "      <th>Kategori</th>\n",
              "      <th>Link</th>\n",
              "    </tr>\n",
              "  </thead>\n",
              "  <tbody>\n",
              "    <tr>\n",
              "      <th>0</th>\n",
              "      <td>Tempo.co</td>\n",
              "      <td>David Tobing: Harusnya Garuda Mengakui Saja Ad...</td>\n",
              "      <td>TEMPO.CO,Jakarta-Pengacara kasus-kasus publik,...</td>\n",
              "      <td>Scroll ke bawah untuk membaca berita</td>\n",
              "      <td>Tidak diketahui</td>\n",
              "      <td>https://hukum.tempo.co/read/1076026/david-tobi...</td>\n",
              "    </tr>\n",
              "    <tr>\n",
              "      <th>1</th>\n",
              "      <td>Tempo.co</td>\n",
              "      <td>Perusahaan Raksasa di Balik Keluhan Amerika So...</td>\n",
              "      <td>Tak perlu pidato panjang lebar dan berapi-api ...</td>\n",
              "      <td>Scroll ke bawah untuk membaca berita</td>\n",
              "      <td>Tidak diketahui</td>\n",
              "      <td>https://newsletter.tempo.co/read/2006642/perus...</td>\n",
              "    </tr>\n",
              "    <tr>\n",
              "      <th>2</th>\n",
              "      <td>Tempo.co</td>\n",
              "      <td>Pengadilan Sita 11 Hektare Lahan Bogor Nirwana...</td>\n",
              "      <td>TEMPO.CO,Jakarta- Pengadilan Negeri Bogor meny...</td>\n",
              "      <td>Scroll ke bawah untuk membaca berita</td>\n",
              "      <td>Tidak diketahui</td>\n",
              "      <td>https://hukum.tempo.co/read/1060865/pengadilan...</td>\n",
              "    </tr>\n",
              "    <tr>\n",
              "      <th>3</th>\n",
              "      <td>Tempo.co</td>\n",
              "      <td>CekFakta #305 Menelisik Penggunaan Narasi \"Ant...</td>\n",
              "      <td>Halo, pembaca nawalaCek Fakta Tempo!</td>\n",
              "      <td>Scroll ke bawah untuk membaca berita</td>\n",
              "      <td>Tidak diketahui</td>\n",
              "      <td>https://newsletter.tempo.co/read/1991227/cekfa...</td>\n",
              "    </tr>\n",
              "    <tr>\n",
              "      <th>4</th>\n",
              "      <td>Tempo.co</td>\n",
              "      <td>GOTO Bakal Minta Restu RUPS untuk Buyback Saha...</td>\n",
              "      <td>TEMPO.CO,Jakarta- Direktur PT GoTo Gojek Tokop...</td>\n",
              "      <td>Scroll ke bawah untuk membaca berita</td>\n",
              "      <td>Tidak diketahui</td>\n",
              "      <td>https://bisnis.tempo.co/read/2016433/goto-baka...</td>\n",
              "    </tr>\n",
              "  </tbody>\n",
              "</table>\n",
              "</div>"
            ],
            "text/plain": [
              "     Sumber                                              Judul  \\\n",
              "0  Tempo.co  David Tobing: Harusnya Garuda Mengakui Saja Ad...   \n",
              "1  Tempo.co  Perusahaan Raksasa di Balik Keluhan Amerika So...   \n",
              "2  Tempo.co  Pengadilan Sita 11 Hektare Lahan Bogor Nirwana...   \n",
              "3  Tempo.co  CekFakta #305 Menelisik Penggunaan Narasi \"Ant...   \n",
              "4  Tempo.co  GOTO Bakal Minta Restu RUPS untuk Buyback Saha...   \n",
              "\n",
              "                                                 Isi  \\\n",
              "0  TEMPO.CO,Jakarta-Pengacara kasus-kasus publik,...   \n",
              "1  Tak perlu pidato panjang lebar dan berapi-api ...   \n",
              "2  TEMPO.CO,Jakarta- Pengadilan Negeri Bogor meny...   \n",
              "3               Halo, pembaca nawalaCek Fakta Tempo!   \n",
              "4  TEMPO.CO,Jakarta- Direktur PT GoTo Gojek Tokop...   \n",
              "\n",
              "                                Tanggal         Kategori  \\\n",
              "0  Scroll ke bawah untuk membaca berita  Tidak diketahui   \n",
              "1  Scroll ke bawah untuk membaca berita  Tidak diketahui   \n",
              "2  Scroll ke bawah untuk membaca berita  Tidak diketahui   \n",
              "3  Scroll ke bawah untuk membaca berita  Tidak diketahui   \n",
              "4  Scroll ke bawah untuk membaca berita  Tidak diketahui   \n",
              "\n",
              "                                                Link  \n",
              "0  https://hukum.tempo.co/read/1076026/david-tobi...  \n",
              "1  https://newsletter.tempo.co/read/2006642/perus...  \n",
              "2  https://hukum.tempo.co/read/1060865/pengadilan...  \n",
              "3  https://newsletter.tempo.co/read/1991227/cekfa...  \n",
              "4  https://bisnis.tempo.co/read/2016433/goto-baka...  "
            ]
          },
          "execution_count": 96,
          "metadata": {},
          "output_type": "execute_result"
        }
      ],
      "source": [
        "df_tempo.head()"
      ]
    },
    {
      "cell_type": "code",
      "execution_count": 97,
      "metadata": {
        "colab": {
          "base_uri": "https://localhost:8080/",
          "height": 289
        },
        "id": "rbAJd-Ej1ToW",
        "outputId": "27a2b3d9-6934-41bd-dd3b-dd55233cbc1e"
      },
      "outputs": [
        {
          "data": {
            "text/html": [
              "<div>\n",
              "<style scoped>\n",
              "    .dataframe tbody tr th:only-of-type {\n",
              "        vertical-align: middle;\n",
              "    }\n",
              "\n",
              "    .dataframe tbody tr th {\n",
              "        vertical-align: top;\n",
              "    }\n",
              "\n",
              "    .dataframe thead th {\n",
              "        text-align: right;\n",
              "    }\n",
              "</style>\n",
              "<table border=\"1\" class=\"dataframe\">\n",
              "  <thead>\n",
              "    <tr style=\"text-align: right;\">\n",
              "      <th></th>\n",
              "      <th>Judul</th>\n",
              "      <th>Isi</th>\n",
              "      <th>Kategori</th>\n",
              "      <th>Link</th>\n",
              "    </tr>\n",
              "  </thead>\n",
              "  <tbody>\n",
              "    <tr>\n",
              "      <th>0</th>\n",
              "      <td>David Tobing: Harusnya Garuda Mengakui Saja Ad...</td>\n",
              "      <td>TEMPO.CO,Jakarta-Pengacara kasus-kasus publik,...</td>\n",
              "      <td>Tidak diketahui</td>\n",
              "      <td>https://hukum.tempo.co/read/1076026/david-tobi...</td>\n",
              "    </tr>\n",
              "    <tr>\n",
              "      <th>1</th>\n",
              "      <td>Perusahaan Raksasa di Balik Keluhan Amerika So...</td>\n",
              "      <td>Tak perlu pidato panjang lebar dan berapi-api ...</td>\n",
              "      <td>Tidak diketahui</td>\n",
              "      <td>https://newsletter.tempo.co/read/2006642/perus...</td>\n",
              "    </tr>\n",
              "    <tr>\n",
              "      <th>2</th>\n",
              "      <td>Pengadilan Sita 11 Hektare Lahan Bogor Nirwana...</td>\n",
              "      <td>TEMPO.CO,Jakarta- Pengadilan Negeri Bogor meny...</td>\n",
              "      <td>Tidak diketahui</td>\n",
              "      <td>https://hukum.tempo.co/read/1060865/pengadilan...</td>\n",
              "    </tr>\n",
              "    <tr>\n",
              "      <th>3</th>\n",
              "      <td>CekFakta #305 Menelisik Penggunaan Narasi \"Ant...</td>\n",
              "      <td>Halo, pembaca nawalaCek Fakta Tempo!</td>\n",
              "      <td>Tidak diketahui</td>\n",
              "      <td>https://newsletter.tempo.co/read/1991227/cekfa...</td>\n",
              "    </tr>\n",
              "    <tr>\n",
              "      <th>4</th>\n",
              "      <td>GOTO Bakal Minta Restu RUPS untuk Buyback Saha...</td>\n",
              "      <td>TEMPO.CO,Jakarta- Direktur PT GoTo Gojek Tokop...</td>\n",
              "      <td>Tidak diketahui</td>\n",
              "      <td>https://bisnis.tempo.co/read/2016433/goto-baka...</td>\n",
              "    </tr>\n",
              "  </tbody>\n",
              "</table>\n",
              "</div>"
            ],
            "text/plain": [
              "                                               Judul  \\\n",
              "0  David Tobing: Harusnya Garuda Mengakui Saja Ad...   \n",
              "1  Perusahaan Raksasa di Balik Keluhan Amerika So...   \n",
              "2  Pengadilan Sita 11 Hektare Lahan Bogor Nirwana...   \n",
              "3  CekFakta #305 Menelisik Penggunaan Narasi \"Ant...   \n",
              "4  GOTO Bakal Minta Restu RUPS untuk Buyback Saha...   \n",
              "\n",
              "                                                 Isi         Kategori  \\\n",
              "0  TEMPO.CO,Jakarta-Pengacara kasus-kasus publik,...  Tidak diketahui   \n",
              "1  Tak perlu pidato panjang lebar dan berapi-api ...  Tidak diketahui   \n",
              "2  TEMPO.CO,Jakarta- Pengadilan Negeri Bogor meny...  Tidak diketahui   \n",
              "3               Halo, pembaca nawalaCek Fakta Tempo!  Tidak diketahui   \n",
              "4  TEMPO.CO,Jakarta- Direktur PT GoTo Gojek Tokop...  Tidak diketahui   \n",
              "\n",
              "                                                Link  \n",
              "0  https://hukum.tempo.co/read/1076026/david-tobi...  \n",
              "1  https://newsletter.tempo.co/read/2006642/perus...  \n",
              "2  https://hukum.tempo.co/read/1060865/pengadilan...  \n",
              "3  https://newsletter.tempo.co/read/1991227/cekfa...  \n",
              "4  https://bisnis.tempo.co/read/2016433/goto-baka...  "
            ]
          },
          "execution_count": 97,
          "metadata": {},
          "output_type": "execute_result"
        }
      ],
      "source": [
        "df_tempo = df_tempo[fitur]\n",
        "df_tempo.head()"
      ]
    },
    {
      "cell_type": "code",
      "execution_count": 98,
      "metadata": {},
      "outputs": [
        {
          "name": "stdout",
          "output_type": "stream",
          "text": [
            "0\n"
          ]
        }
      ],
      "source": [
        "# periksa link duplikat\n",
        "print(df_tempo['Link'].duplicated().sum())"
      ]
    },
    {
      "cell_type": "code",
      "execution_count": 99,
      "metadata": {},
      "outputs": [
        {
          "name": "stdout",
          "output_type": "stream",
          "text": [
            "0\n",
            "1\n",
            "0\n",
            "0\n"
          ]
        }
      ],
      "source": [
        "# cek nan di judul dan isi\n",
        "print(df_tempo['Judul'].isna().sum())\n",
        "print(df_tempo['Isi'].isna().sum())\n",
        "\n",
        "# cek judul dan isi yang kosong (isinya hanya spasi)\n",
        "print(df_tempo[df_tempo['Judul'].str.strip() == ''].shape[0])\n",
        "print(df_tempo[df_tempo['Isi'].str.strip() == ''].shape[0])"
      ]
    },
    {
      "cell_type": "code",
      "execution_count": 100,
      "metadata": {},
      "outputs": [
        {
          "name": "stdout",
          "output_type": "stream",
          "text": [
            "0\n"
          ]
        }
      ],
      "source": [
        "# drop isi yang nan\n",
        "df_tempo = df_tempo.dropna(subset=['Isi'])\n",
        "print(df_tempo['Isi'].isna().sum())"
      ]
    },
    {
      "cell_type": "code",
      "execution_count": 115,
      "metadata": {},
      "outputs": [
        {
          "name": "stdout",
          "output_type": "stream",
          "text": [
            "Index(['judul', 'isi', 'kategori', 'link'], dtype='object')\n"
          ]
        }
      ],
      "source": [
        "# ganti nama kolom\n",
        "# Judul --> judul\n",
        "# Isi --> isi\n",
        "# Kategori --> kategori\n",
        "# Link --> link\n",
        "df_tempo.columns = ['judul', 'isi', 'kategori', 'link']\n",
        "\n",
        "# print nama kolom\n",
        "print(df_tempo.columns)"
      ]
    },
    {
      "cell_type": "markdown",
      "metadata": {
        "id": "BpBIaDp0zKX3"
      },
      "source": [
        "## **tribun**"
      ]
    },
    {
      "cell_type": "code",
      "execution_count": 101,
      "metadata": {
        "colab": {
          "base_uri": "https://localhost:8080/",
          "height": 374
        },
        "id": "w-rVMwbTzFHX",
        "outputId": "b4bd9898-01a0-47f8-b568-bd4de714a686"
      },
      "outputs": [
        {
          "data": {
            "text/html": [
              "<div>\n",
              "<style scoped>\n",
              "    .dataframe tbody tr th:only-of-type {\n",
              "        vertical-align: middle;\n",
              "    }\n",
              "\n",
              "    .dataframe tbody tr th {\n",
              "        vertical-align: top;\n",
              "    }\n",
              "\n",
              "    .dataframe thead th {\n",
              "        text-align: right;\n",
              "    }\n",
              "</style>\n",
              "<table border=\"1\" class=\"dataframe\">\n",
              "  <thead>\n",
              "    <tr style=\"text-align: right;\">\n",
              "      <th></th>\n",
              "      <th>No</th>\n",
              "      <th>Sumber</th>\n",
              "      <th>Judul</th>\n",
              "      <th>Isi</th>\n",
              "      <th>Tanggal</th>\n",
              "      <th>Kategori</th>\n",
              "      <th>Link</th>\n",
              "    </tr>\n",
              "  </thead>\n",
              "  <tbody>\n",
              "    <tr>\n",
              "      <th>0</th>\n",
              "      <td>1</td>\n",
              "      <td>Tribunnews</td>\n",
              "      <td>Saat Prosesi Siraman Al Ghazali dan Alyssa Dag...</td>\n",
              "      <td>Brandon selaku pihak event organizer (EO) yang...</td>\n",
              "      <td>Tayang: Selasa, 10 Juni 2025 08:52 WIB</td>\n",
              "      <td>Seleb</td>\n",
              "      <td>https://aceh.tribunnews.com/2025/06/10/saat-pr...</td>\n",
              "    </tr>\n",
              "    <tr>\n",
              "      <th>1</th>\n",
              "      <td>2</td>\n",
              "      <td>Tribunnews</td>\n",
              "      <td>Prediksi Susunan Pemain Timnas Indonesia Melaw...</td>\n",
              "      <td>WARTAKOTALIVE.COM, JAKARTA - Timnas Indonesia ...</td>\n",
              "      <td>Tayang: Selasa, 10 Juni 2025 08:40 WIB</td>\n",
              "      <td>WartaBola</td>\n",
              "      <td>https://wartakota.tribunnews.com/2025/06/10/pr...</td>\n",
              "    </tr>\n",
              "    <tr>\n",
              "      <th>2</th>\n",
              "      <td>3</td>\n",
              "      <td>Tribunnews</td>\n",
              "      <td>Baru Melahirkan, Suami di Dompu NTB Bunuh Istr...</td>\n",
              "      <td>PROHABA.CO, DOMPU -  Seorang wanita berinisial...</td>\n",
              "      <td>Tayang: Senin, 9 Juni 2025 10:48 WIB</td>\n",
              "      <td>Nusantara</td>\n",
              "      <td>https://prohaba.tribunnews.com/2025/06/09/baru...</td>\n",
              "    </tr>\n",
              "    <tr>\n",
              "      <th>3</th>\n",
              "      <td>4</td>\n",
              "      <td>Tribunnews</td>\n",
              "      <td>Lapas Kotabumi dan Kodim 0412 Lampura Lakukan ...</td>\n",
              "      <td>TRIBUNLAMPUNG.CO.ID, LAMPUNG UTARA - Lembaga P...</td>\n",
              "      <td>Tayang: Senin, 9 Juni 2025 20:54 WIB</td>\n",
              "      <td>Lampung</td>\n",
              "      <td>https://lampung.tribunnews.com/2025/06/09/lapa...</td>\n",
              "    </tr>\n",
              "    <tr>\n",
              "      <th>4</th>\n",
              "      <td>5</td>\n",
              "      <td>Tribunnews</td>\n",
              "      <td>Wisatawan Gunung Bromo Dorong Motor Dapat Apre...</td>\n",
              "      <td>SURYA.co.id, PROBOLINGGO - Sejumlah wisatawan ...</td>\n",
              "      <td>Tayang: Senin, 9 Juni 2025 22:09 WIB</td>\n",
              "      <td>Jatim Raya</td>\n",
              "      <td>https://surabaya.tribunnews.com/2025/06/09/wis...</td>\n",
              "    </tr>\n",
              "  </tbody>\n",
              "</table>\n",
              "</div>"
            ],
            "text/plain": [
              "   No      Sumber                                              Judul  \\\n",
              "0   1  Tribunnews  Saat Prosesi Siraman Al Ghazali dan Alyssa Dag...   \n",
              "1   2  Tribunnews  Prediksi Susunan Pemain Timnas Indonesia Melaw...   \n",
              "2   3  Tribunnews  Baru Melahirkan, Suami di Dompu NTB Bunuh Istr...   \n",
              "3   4  Tribunnews  Lapas Kotabumi dan Kodim 0412 Lampura Lakukan ...   \n",
              "4   5  Tribunnews  Wisatawan Gunung Bromo Dorong Motor Dapat Apre...   \n",
              "\n",
              "                                                 Isi  \\\n",
              "0  Brandon selaku pihak event organizer (EO) yang...   \n",
              "1  WARTAKOTALIVE.COM, JAKARTA - Timnas Indonesia ...   \n",
              "2  PROHABA.CO, DOMPU -  Seorang wanita berinisial...   \n",
              "3  TRIBUNLAMPUNG.CO.ID, LAMPUNG UTARA - Lembaga P...   \n",
              "4  SURYA.co.id, PROBOLINGGO - Sejumlah wisatawan ...   \n",
              "\n",
              "                                  Tanggal    Kategori  \\\n",
              "0  Tayang: Selasa, 10 Juni 2025 08:52 WIB       Seleb   \n",
              "1  Tayang: Selasa, 10 Juni 2025 08:40 WIB   WartaBola   \n",
              "2    Tayang: Senin, 9 Juni 2025 10:48 WIB   Nusantara   \n",
              "3    Tayang: Senin, 9 Juni 2025 20:54 WIB     Lampung   \n",
              "4    Tayang: Senin, 9 Juni 2025 22:09 WIB  Jatim Raya   \n",
              "\n",
              "                                                Link  \n",
              "0  https://aceh.tribunnews.com/2025/06/10/saat-pr...  \n",
              "1  https://wartakota.tribunnews.com/2025/06/10/pr...  \n",
              "2  https://prohaba.tribunnews.com/2025/06/09/baru...  \n",
              "3  https://lampung.tribunnews.com/2025/06/09/lapa...  \n",
              "4  https://surabaya.tribunnews.com/2025/06/09/wis...  "
            ]
          },
          "execution_count": 101,
          "metadata": {},
          "output_type": "execute_result"
        }
      ],
      "source": [
        "df_tribun.head()"
      ]
    },
    {
      "cell_type": "code",
      "execution_count": 102,
      "metadata": {
        "colab": {
          "base_uri": "https://localhost:8080/",
          "height": 289
        },
        "id": "ShVGTkKvzWei",
        "outputId": "8f1c92e6-5a56-4e9f-9932-6f9f50cecf54"
      },
      "outputs": [
        {
          "data": {
            "text/html": [
              "<div>\n",
              "<style scoped>\n",
              "    .dataframe tbody tr th:only-of-type {\n",
              "        vertical-align: middle;\n",
              "    }\n",
              "\n",
              "    .dataframe tbody tr th {\n",
              "        vertical-align: top;\n",
              "    }\n",
              "\n",
              "    .dataframe thead th {\n",
              "        text-align: right;\n",
              "    }\n",
              "</style>\n",
              "<table border=\"1\" class=\"dataframe\">\n",
              "  <thead>\n",
              "    <tr style=\"text-align: right;\">\n",
              "      <th></th>\n",
              "      <th>Judul</th>\n",
              "      <th>Isi</th>\n",
              "      <th>Kategori</th>\n",
              "      <th>Link</th>\n",
              "    </tr>\n",
              "  </thead>\n",
              "  <tbody>\n",
              "    <tr>\n",
              "      <th>0</th>\n",
              "      <td>Saat Prosesi Siraman Al Ghazali dan Alyssa Dag...</td>\n",
              "      <td>Brandon selaku pihak event organizer (EO) yang...</td>\n",
              "      <td>Seleb</td>\n",
              "      <td>https://aceh.tribunnews.com/2025/06/10/saat-pr...</td>\n",
              "    </tr>\n",
              "    <tr>\n",
              "      <th>1</th>\n",
              "      <td>Prediksi Susunan Pemain Timnas Indonesia Melaw...</td>\n",
              "      <td>WARTAKOTALIVE.COM, JAKARTA - Timnas Indonesia ...</td>\n",
              "      <td>WartaBola</td>\n",
              "      <td>https://wartakota.tribunnews.com/2025/06/10/pr...</td>\n",
              "    </tr>\n",
              "    <tr>\n",
              "      <th>2</th>\n",
              "      <td>Baru Melahirkan, Suami di Dompu NTB Bunuh Istr...</td>\n",
              "      <td>PROHABA.CO, DOMPU -  Seorang wanita berinisial...</td>\n",
              "      <td>Nusantara</td>\n",
              "      <td>https://prohaba.tribunnews.com/2025/06/09/baru...</td>\n",
              "    </tr>\n",
              "    <tr>\n",
              "      <th>3</th>\n",
              "      <td>Lapas Kotabumi dan Kodim 0412 Lampura Lakukan ...</td>\n",
              "      <td>TRIBUNLAMPUNG.CO.ID, LAMPUNG UTARA - Lembaga P...</td>\n",
              "      <td>Lampung</td>\n",
              "      <td>https://lampung.tribunnews.com/2025/06/09/lapa...</td>\n",
              "    </tr>\n",
              "    <tr>\n",
              "      <th>4</th>\n",
              "      <td>Wisatawan Gunung Bromo Dorong Motor Dapat Apre...</td>\n",
              "      <td>SURYA.co.id, PROBOLINGGO - Sejumlah wisatawan ...</td>\n",
              "      <td>Jatim Raya</td>\n",
              "      <td>https://surabaya.tribunnews.com/2025/06/09/wis...</td>\n",
              "    </tr>\n",
              "  </tbody>\n",
              "</table>\n",
              "</div>"
            ],
            "text/plain": [
              "                                               Judul  \\\n",
              "0  Saat Prosesi Siraman Al Ghazali dan Alyssa Dag...   \n",
              "1  Prediksi Susunan Pemain Timnas Indonesia Melaw...   \n",
              "2  Baru Melahirkan, Suami di Dompu NTB Bunuh Istr...   \n",
              "3  Lapas Kotabumi dan Kodim 0412 Lampura Lakukan ...   \n",
              "4  Wisatawan Gunung Bromo Dorong Motor Dapat Apre...   \n",
              "\n",
              "                                                 Isi    Kategori  \\\n",
              "0  Brandon selaku pihak event organizer (EO) yang...       Seleb   \n",
              "1  WARTAKOTALIVE.COM, JAKARTA - Timnas Indonesia ...   WartaBola   \n",
              "2  PROHABA.CO, DOMPU -  Seorang wanita berinisial...   Nusantara   \n",
              "3  TRIBUNLAMPUNG.CO.ID, LAMPUNG UTARA - Lembaga P...     Lampung   \n",
              "4  SURYA.co.id, PROBOLINGGO - Sejumlah wisatawan ...  Jatim Raya   \n",
              "\n",
              "                                                Link  \n",
              "0  https://aceh.tribunnews.com/2025/06/10/saat-pr...  \n",
              "1  https://wartakota.tribunnews.com/2025/06/10/pr...  \n",
              "2  https://prohaba.tribunnews.com/2025/06/09/baru...  \n",
              "3  https://lampung.tribunnews.com/2025/06/09/lapa...  \n",
              "4  https://surabaya.tribunnews.com/2025/06/09/wis...  "
            ]
          },
          "execution_count": 102,
          "metadata": {},
          "output_type": "execute_result"
        }
      ],
      "source": [
        "df_tribun = df_tribun[fitur]\n",
        "df_tribun.head()"
      ]
    },
    {
      "cell_type": "code",
      "execution_count": 103,
      "metadata": {
        "id": "ky6ykmYO1Zbv"
      },
      "outputs": [
        {
          "name": "stdout",
          "output_type": "stream",
          "text": [
            "0\n"
          ]
        }
      ],
      "source": [
        "# periksa link duplikat\n",
        "print(df_tribun['Link'].duplicated().sum())"
      ]
    },
    {
      "cell_type": "code",
      "execution_count": 104,
      "metadata": {},
      "outputs": [
        {
          "name": "stdout",
          "output_type": "stream",
          "text": [
            "0\n",
            "0\n",
            "0\n",
            "0\n"
          ]
        }
      ],
      "source": [
        "# cek nan di judul dan isi\n",
        "print(df_tribun['Judul'].isna().sum())\n",
        "print(df_tribun['Isi'].isna().sum())\n",
        "\n",
        "# cek judul dan isi yang kosong (isinya hanya spasi)\n",
        "print(df_tribun[df_tribun['Judul'].str.strip() == ''].shape[0])\n",
        "print(df_tribun[df_tribun['Isi'].str.strip() == ''].shape[0])"
      ]
    },
    {
      "cell_type": "code",
      "execution_count": 116,
      "metadata": {},
      "outputs": [
        {
          "name": "stdout",
          "output_type": "stream",
          "text": [
            "Index(['judul', 'isi', 'kategori', 'link'], dtype='object')\n"
          ]
        }
      ],
      "source": [
        "# ganti nama kolom\n",
        "# Judul --> judul\n",
        "# Isi --> isi\n",
        "# Kategori --> kategori\n",
        "# Link --> link\n",
        "df_tribun.columns = ['judul', 'isi', 'kategori', 'link']\n",
        "\n",
        "# print nama kolom\n",
        "print(df_tribun.columns)"
      ]
    },
    {
      "cell_type": "code",
      "execution_count": 117,
      "metadata": {},
      "outputs": [
        {
          "data": {
            "text/html": [
              "<div>\n",
              "<style scoped>\n",
              "    .dataframe tbody tr th:only-of-type {\n",
              "        vertical-align: middle;\n",
              "    }\n",
              "\n",
              "    .dataframe tbody tr th {\n",
              "        vertical-align: top;\n",
              "    }\n",
              "\n",
              "    .dataframe thead th {\n",
              "        text-align: right;\n",
              "    }\n",
              "</style>\n",
              "<table border=\"1\" class=\"dataframe\">\n",
              "  <thead>\n",
              "    <tr style=\"text-align: right;\">\n",
              "      <th></th>\n",
              "      <th>judul</th>\n",
              "      <th>isi</th>\n",
              "      <th>kategori</th>\n",
              "      <th>link</th>\n",
              "      <th>sumber</th>\n",
              "    </tr>\n",
              "  </thead>\n",
              "  <tbody>\n",
              "    <tr>\n",
              "      <th>0</th>\n",
              "      <td>Terungkap, Sosok yang Kirim Bitcoin USD 31 Jut...</td>\n",
              "      <td>Liputan6.com, Jakarta -Donasi Bitcoin senilai ...</td>\n",
              "      <td>Crypto</td>\n",
              "      <td>https://www.liputan6.com/crypto/read/6044965/t...</td>\n",
              "      <td>liputan6</td>\n",
              "    </tr>\n",
              "    <tr>\n",
              "      <th>1</th>\n",
              "      <td>Pangeran Harry dan Meghan Markle Ajak Anak-ana...</td>\n",
              "      <td>Liputan6.com, Jakarta -Pangeran Harrybaru-baru...</td>\n",
              "      <td>Lifestyle</td>\n",
              "      <td>https://www.liputan6.com/lifestyle/read/604621...</td>\n",
              "      <td>liputan6</td>\n",
              "    </tr>\n",
              "    <tr>\n",
              "      <th>2</th>\n",
              "      <td>Rekomendasi 10 Model Jahitan Baju Batik Wanita...</td>\n",
              "      <td>Liputan6.com, JakartaDi tengah tren fashion ya...</td>\n",
              "      <td>Hot</td>\n",
              "      <td>https://www.liputan6.com/hot/read/5991426/reko...</td>\n",
              "      <td>liputan6</td>\n",
              "    </tr>\n",
              "    <tr>\n",
              "      <th>3</th>\n",
              "      <td>Menteri UMKM Pede Rasio Kewirausahaan Bisa Cap...</td>\n",
              "      <td>Liputan6.com, Jakarta -Menteri Usaha Mikro, Ke...</td>\n",
              "      <td>Bisnis</td>\n",
              "      <td>https://www.liputan6.com/bisnis/read/6048618/m...</td>\n",
              "      <td>liputan6</td>\n",
              "    </tr>\n",
              "    <tr>\n",
              "      <th>4</th>\n",
              "      <td>Data Inflasi hingga Suku Bunga The Fed Bayangi...</td>\n",
              "      <td>Liputan6.com, Jakarta -HargaBitcoinpada awal J...</td>\n",
              "      <td>Crypto</td>\n",
              "      <td>https://www.liputan6.com/crypto/read/6046066/d...</td>\n",
              "      <td>liputan6</td>\n",
              "    </tr>\n",
              "  </tbody>\n",
              "</table>\n",
              "</div>"
            ],
            "text/plain": [
              "                                               judul  \\\n",
              "0  Terungkap, Sosok yang Kirim Bitcoin USD 31 Jut...   \n",
              "1  Pangeran Harry dan Meghan Markle Ajak Anak-ana...   \n",
              "2  Rekomendasi 10 Model Jahitan Baju Batik Wanita...   \n",
              "3  Menteri UMKM Pede Rasio Kewirausahaan Bisa Cap...   \n",
              "4  Data Inflasi hingga Suku Bunga The Fed Bayangi...   \n",
              "\n",
              "                                                 isi   kategori  \\\n",
              "0  Liputan6.com, Jakarta -Donasi Bitcoin senilai ...     Crypto   \n",
              "1  Liputan6.com, Jakarta -Pangeran Harrybaru-baru...  Lifestyle   \n",
              "2  Liputan6.com, JakartaDi tengah tren fashion ya...        Hot   \n",
              "3  Liputan6.com, Jakarta -Menteri Usaha Mikro, Ke...     Bisnis   \n",
              "4  Liputan6.com, Jakarta -HargaBitcoinpada awal J...     Crypto   \n",
              "\n",
              "                                                link    sumber  \n",
              "0  https://www.liputan6.com/crypto/read/6044965/t...  liputan6  \n",
              "1  https://www.liputan6.com/lifestyle/read/604621...  liputan6  \n",
              "2  https://www.liputan6.com/hot/read/5991426/reko...  liputan6  \n",
              "3  https://www.liputan6.com/bisnis/read/6048618/m...  liputan6  \n",
              "4  https://www.liputan6.com/crypto/read/6046066/d...  liputan6  "
            ]
          },
          "execution_count": 117,
          "metadata": {},
          "output_type": "execute_result"
        }
      ],
      "source": [
        "# tambah kolom sumber\n",
        "df_liputan6['sumber'] = 'liputan6'\n",
        "df_posmetro['sumber'] = 'posmetro'\n",
        "df_detik['sumber'] = 'detik'\n",
        "df_fimela['sumber'] = 'fimela'\n",
        "df_kapanlagi['sumber'] = 'kapanlagi'\n",
        "df_kompas['sumber'] = 'kompas'\n",
        "df_okezone['sumber'] = 'okezone'\n",
        "df_republika['sumber'] = 'republika'\n",
        "df_sindonews['sumber'] = 'sindonews'\n",
        "df_tempo['sumber'] = 'tempo'\n",
        "df_tribun['sumber'] = 'tribun'\n",
        "\n",
        "# gabungkan semua dataframe\n",
        "df_berita = pd.concat([\n",
        "    df_liputan6, df_posmetro, df_detik, df_fimela, df_kapanlagi,\n",
        "    df_kompas, df_okezone, df_republika, df_sindonews, df_tempo, df_tribun\n",
        "], ignore_index=True)\n",
        "\n",
        "df_berita.head()"
      ]
    },
    {
      "cell_type": "code",
      "execution_count": 118,
      "metadata": {},
      "outputs": [],
      "source": [
        "# export ke csv\n",
        "df_berita.to_csv('berita.csv', index=False)\n",
        "# export ke excel\n",
        "df_berita.to_excel('berita.xlsx', index=False)"
      ]
    },
    {
      "cell_type": "code",
      "execution_count": null,
      "metadata": {},
      "outputs": [],
      "source": []
    }
  ],
  "metadata": {
    "colab": {
      "provenance": []
    },
    "kernelspec": {
      "display_name": "base",
      "language": "python",
      "name": "python3"
    },
    "language_info": {
      "codemirror_mode": {
        "name": "ipython",
        "version": 3
      },
      "file_extension": ".py",
      "mimetype": "text/x-python",
      "name": "python",
      "nbconvert_exporter": "python",
      "pygments_lexer": "ipython3",
      "version": "3.13.2"
    }
  },
  "nbformat": 4,
  "nbformat_minor": 0
}
